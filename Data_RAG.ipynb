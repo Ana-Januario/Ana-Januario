{
  "cells": [
    {
      "cell_type": "markdown",
      "metadata": {
        "id": "view-in-github",
        "colab_type": "text"
      },
      "source": [
        "<a href=\"https://colab.research.google.com/github/Ana-Januario/Ana-Januario/blob/main/Data_RAG.ipynb\" target=\"_parent\"><img src=\"https://colab.research.google.com/assets/colab-badge.svg\" alt=\"Open In Colab\"/></a>"
      ]
    },
    {
      "cell_type": "markdown",
      "metadata": {
        "id": "IOpw--87wvkW"
      },
      "source": [
        "Instead of using fine-tuning, we'll use RAG to build our own \"Commander Data\" based on everything he ever said in the scripts.\n",
        "\n",
        "To summarize the high level approach:\n",
        "\n",
        "- We'll first parse all of the scripts to extract every line from Data, much as we did in the fine-tuning example.\n",
        "- Then we'll use the OpenAI embeddings API to compute embedding vectors for every one of his lines. This basically gives us similarity measures between every line.\n",
        "- RAG calls for use of a vector database to store these lines with the associated embedding vectors. To keep things simple, we'll use a local database called vectordb. There are plenty of cloud-based vector database services out there as well.\n",
        "- Then we'll make a little retrieval function that retrieves the N most-similar lines from the vector database for a given query\n",
        "- Those similar lines are then added as context to the prompt before it is handed off the the chat API.\n",
        "\n",
        "I'm intentionally not using langchain or some other higher-level framework, because this is actually pretty simple without it.\n",
        "\n",
        "First, let's install vectordb:"
      ]
    },
    {
      "cell_type": "code",
      "execution_count": 8,
      "metadata": {
        "colab": {
          "base_uri": "https://localhost:8080/"
        },
        "id": "2J2I0mlbLWba",
        "outputId": "9590411e-412d-4586-ba1f-3174cb0313fb"
      },
      "outputs": [
        {
          "output_type": "stream",
          "name": "stdout",
          "text": [
            "Collecting vectordb\n",
            "  Downloading vectordb-0.0.21.tar.gz (28 kB)\n",
            "  Preparing metadata (setup.py) ... \u001b[?25l\u001b[?25hdone\n",
            "Collecting jina>=3.20.0 (from vectordb)\n",
            "  Downloading jina-3.28.0-cp310-cp310-manylinux_2_5_x86_64.manylinux1_x86_64.manylinux_2_17_x86_64.manylinux2014_x86_64.whl.metadata (23 kB)\n",
            "Collecting docarray>=0.34.0 (from docarray[hnswlib]>=0.34.0->vectordb)\n",
            "  Downloading docarray-0.40.0-py3-none-any.whl.metadata (36 kB)\n",
            "Requirement already satisfied: numpy>=1.17.3 in /usr/local/lib/python3.10/dist-packages (from docarray>=0.34.0->docarray[hnswlib]>=0.34.0->vectordb) (1.26.4)\n",
            "Requirement already satisfied: orjson>=3.8.2 in /usr/local/lib/python3.10/dist-packages (from docarray>=0.34.0->docarray[hnswlib]>=0.34.0->vectordb) (3.10.12)\n",
            "Requirement already satisfied: pydantic>=1.10.8 in /usr/local/lib/python3.10/dist-packages (from docarray>=0.34.0->docarray[hnswlib]>=0.34.0->vectordb) (2.10.2)\n",
            "Requirement already satisfied: rich>=13.1.0 in /usr/local/lib/python3.10/dist-packages (from docarray>=0.34.0->docarray[hnswlib]>=0.34.0->vectordb) (13.9.4)\n",
            "Collecting types-requests>=2.28.11.6 (from docarray>=0.34.0->docarray[hnswlib]>=0.34.0->vectordb)\n",
            "  Downloading types_requests-2.32.0.20241016-py3-none-any.whl.metadata (1.9 kB)\n",
            "Collecting typing-inspect>=0.8.0 (from docarray>=0.34.0->docarray[hnswlib]>=0.34.0->vectordb)\n",
            "  Downloading typing_inspect-0.9.0-py3-none-any.whl.metadata (1.5 kB)\n",
            "Collecting hnswlib>=0.7.0 (from docarray[hnswlib]>=0.34.0->vectordb)\n",
            "  Downloading hnswlib-0.8.0.tar.gz (36 kB)\n",
            "  Installing build dependencies ... \u001b[?25l\u001b[?25hdone\n",
            "  Getting requirements to build wheel ... \u001b[?25l\u001b[?25hdone\n",
            "  Preparing metadata (pyproject.toml) ... \u001b[?25l\u001b[?25hdone\n",
            "Requirement already satisfied: protobuf>=3.20.0 in /usr/local/lib/python3.10/dist-packages (from docarray[hnswlib]>=0.34.0->vectordb) (4.25.5)\n",
            "Collecting urllib3<2.0.0,>=1.25.9 (from jina>=3.20.0->vectordb)\n",
            "  Downloading urllib3-1.26.20-py2.py3-none-any.whl.metadata (50 kB)\n",
            "\u001b[2K     \u001b[90m━━━━━━━━━━━━━━━━━━━━━━━━━━━━━━━━━━━━━━━━\u001b[0m \u001b[32m50.1/50.1 kB\u001b[0m \u001b[31m3.2 MB/s\u001b[0m eta \u001b[36m0:00:00\u001b[0m\n",
            "\u001b[?25hRequirement already satisfied: requests in /usr/local/lib/python3.10/dist-packages (from jina>=3.20.0->vectordb) (2.32.3)\n",
            "Requirement already satisfied: filelock in /usr/local/lib/python3.10/dist-packages (from jina>=3.20.0->vectordb) (3.16.1)\n",
            "Collecting opentelemetry-instrumentation-fastapi>=0.33b0 (from jina>=3.20.0->vectordb)\n",
            "  Downloading opentelemetry_instrumentation_fastapi-0.49b2-py3-none-any.whl.metadata (2.1 kB)\n",
            "Collecting jina-hubble-sdk>=0.30.4 (from jina>=3.20.0->vectordb)\n",
            "  Downloading jina_hubble_sdk-0.39.0-py3-none-any.whl.metadata (3.8 kB)\n",
            "Collecting grpcio<=1.68.0,>=1.46.0 (from jina>=3.20.0->vectordb)\n",
            "  Downloading grpcio-1.68.0-cp310-cp310-manylinux_2_17_x86_64.manylinux2014_x86_64.whl.metadata (3.9 kB)\n",
            "Collecting uvicorn<=0.23.1 (from uvicorn[standard]<=0.23.1->jina>=3.20.0->vectordb)\n",
            "  Downloading uvicorn-0.23.1-py3-none-any.whl.metadata (6.2 kB)\n",
            "Requirement already satisfied: opentelemetry-api>=1.12.0 in /usr/local/lib/python3.10/dist-packages (from jina>=3.20.0->vectordb) (1.28.2)\n",
            "Collecting opentelemetry-exporter-prometheus>=0.33b0 (from jina>=3.20.0->vectordb)\n",
            "  Downloading opentelemetry_exporter_prometheus-0.49b2-py3-none-any.whl.metadata (1.8 kB)\n",
            "Collecting opentelemetry-instrumentation-grpc>=0.35b0 (from jina>=3.20.0->vectordb)\n",
            "  Downloading opentelemetry_instrumentation_grpc-0.49b2-py3-none-any.whl.metadata (1.8 kB)\n",
            "Collecting pydantic>=1.10.8 (from docarray>=0.34.0->docarray[hnswlib]>=0.34.0->vectordb)\n",
            "  Downloading pydantic-1.10.19-cp310-cp310-manylinux_2_17_x86_64.manylinux2014_x86_64.whl.metadata (152 kB)\n",
            "\u001b[2K     \u001b[90m━━━━━━━━━━━━━━━━━━━━━━━━━━━━━━━━━━━━━━━━\u001b[0m \u001b[32m152.6/152.6 kB\u001b[0m \u001b[31m5.6 MB/s\u001b[0m eta \u001b[36m0:00:00\u001b[0m\n",
            "\u001b[?25hCollecting grpcio-health-checking<=1.68.0,>=1.46.0 (from jina>=3.20.0->vectordb)\n",
            "  Downloading grpcio_health_checking-1.68.0-py3-none-any.whl.metadata (1.1 kB)\n",
            "Collecting docker (from jina>=3.20.0->vectordb)\n",
            "  Downloading docker-7.1.0-py3-none-any.whl.metadata (3.8 kB)\n",
            "Requirement already satisfied: packaging>=20.0 in /usr/local/lib/python3.10/dist-packages (from jina>=3.20.0->vectordb) (24.2)\n",
            "Requirement already satisfied: aiohttp in /usr/local/lib/python3.10/dist-packages (from jina>=3.20.0->vectordb) (3.11.9)\n",
            "Collecting opentelemetry-exporter-otlp>=1.12.0 (from jina>=3.20.0->vectordb)\n",
            "  Downloading opentelemetry_exporter_otlp-1.28.2-py3-none-any.whl.metadata (2.3 kB)\n",
            "Collecting jcloud>=0.0.35 (from jina>=3.20.0->vectordb)\n",
            "  Downloading jcloud-0.3.tar.gz (39 kB)\n",
            "  Installing build dependencies ... \u001b[?25l\u001b[?25hdone\n",
            "  Getting requirements to build wheel ... \u001b[?25l\u001b[?25hdone\n",
            "  Preparing metadata (pyproject.toml) ... \u001b[?25l\u001b[?25hdone\n",
            "Requirement already satisfied: prometheus-client>=0.12.0 in /usr/local/lib/python3.10/dist-packages (from jina>=3.20.0->vectordb) (0.21.0)\n",
            "Collecting websockets (from jina>=3.20.0->vectordb)\n",
            "  Downloading websockets-14.1-cp310-cp310-manylinux_2_5_x86_64.manylinux1_x86_64.manylinux_2_17_x86_64.manylinux2014_x86_64.whl.metadata (6.7 kB)\n",
            "Collecting opentelemetry-instrumentation-aiohttp-client>=0.33b0 (from jina>=3.20.0->vectordb)\n",
            "  Downloading opentelemetry_instrumentation_aiohttp_client-0.49b2-py3-none-any.whl.metadata (2.0 kB)\n",
            "Collecting aiofiles (from jina>=3.20.0->vectordb)\n",
            "  Downloading aiofiles-24.1.0-py3-none-any.whl.metadata (10 kB)\n",
            "Requirement already satisfied: opentelemetry-sdk>=1.14.0 in /usr/local/lib/python3.10/dist-packages (from jina>=3.20.0->vectordb) (1.28.2)\n",
            "Collecting grpcio-reflection<=1.68.0,>=1.46.0 (from jina>=3.20.0->vectordb)\n",
            "  Downloading grpcio_reflection-1.68.0-py3-none-any.whl.metadata (1.1 kB)\n",
            "Collecting pathspec (from jina>=3.20.0->vectordb)\n",
            "  Downloading pathspec-0.12.1-py3-none-any.whl.metadata (21 kB)\n",
            "Requirement already satisfied: pyyaml>=5.3.1 in /usr/local/lib/python3.10/dist-packages (from jina>=3.20.0->vectordb) (6.0.2)\n",
            "Collecting python-multipart (from jina>=3.20.0->vectordb)\n",
            "  Downloading python_multipart-0.0.19-py3-none-any.whl.metadata (1.8 kB)\n",
            "Collecting opentelemetry-exporter-otlp-proto-grpc>=1.13.0 (from jina>=3.20.0->vectordb)\n",
            "  Downloading opentelemetry_exporter_otlp_proto_grpc-1.28.2-py3-none-any.whl.metadata (2.2 kB)\n",
            "Collecting fastapi>=0.76.0 (from jina>=3.20.0->vectordb)\n",
            "  Downloading fastapi-0.115.6-py3-none-any.whl.metadata (27 kB)\n",
            "Collecting uvloop (from jina>=3.20.0->vectordb)\n",
            "  Downloading uvloop-0.21.0-cp310-cp310-manylinux_2_17_x86_64.manylinux2014_x86_64.whl.metadata (4.9 kB)\n",
            "Collecting starlette<0.42.0,>=0.40.0 (from fastapi>=0.76.0->jina>=3.20.0->vectordb)\n",
            "  Downloading starlette-0.41.3-py3-none-any.whl.metadata (6.0 kB)\n",
            "Requirement already satisfied: typing-extensions>=4.8.0 in /usr/local/lib/python3.10/dist-packages (from fastapi>=0.76.0->jina>=3.20.0->vectordb) (4.12.2)\n",
            "Collecting protobuf>=3.20.0 (from docarray[hnswlib]>=0.34.0->vectordb)\n",
            "  Downloading protobuf-5.29.1-cp38-abi3-manylinux2014_x86_64.whl.metadata (592 bytes)\n",
            "Collecting python-dotenv (from jcloud>=0.0.35->jina>=3.20.0->vectordb)\n",
            "  Downloading python_dotenv-1.0.1-py3-none-any.whl.metadata (23 kB)\n",
            "Requirement already satisfied: python-dateutil in /usr/local/lib/python3.10/dist-packages (from jcloud>=0.0.35->jina>=3.20.0->vectordb) (2.8.2)\n",
            "Requirement already satisfied: aiohappyeyeballs>=2.3.0 in /usr/local/lib/python3.10/dist-packages (from aiohttp->jina>=3.20.0->vectordb) (2.4.4)\n",
            "Requirement already satisfied: aiosignal>=1.1.2 in /usr/local/lib/python3.10/dist-packages (from aiohttp->jina>=3.20.0->vectordb) (1.3.1)\n",
            "Requirement already satisfied: async-timeout<6.0,>=4.0 in /usr/local/lib/python3.10/dist-packages (from aiohttp->jina>=3.20.0->vectordb) (4.0.3)\n",
            "Requirement already satisfied: attrs>=17.3.0 in /usr/local/lib/python3.10/dist-packages (from aiohttp->jina>=3.20.0->vectordb) (24.2.0)\n",
            "Requirement already satisfied: frozenlist>=1.1.1 in /usr/local/lib/python3.10/dist-packages (from aiohttp->jina>=3.20.0->vectordb) (1.5.0)\n",
            "Requirement already satisfied: multidict<7.0,>=4.5 in /usr/local/lib/python3.10/dist-packages (from aiohttp->jina>=3.20.0->vectordb) (6.1.0)\n",
            "Requirement already satisfied: propcache>=0.2.0 in /usr/local/lib/python3.10/dist-packages (from aiohttp->jina>=3.20.0->vectordb) (0.2.1)\n",
            "Requirement already satisfied: yarl<2.0,>=1.17.0 in /usr/local/lib/python3.10/dist-packages (from aiohttp->jina>=3.20.0->vectordb) (1.18.3)\n",
            "Requirement already satisfied: importlib-metadata in /usr/local/lib/python3.10/dist-packages (from jina-hubble-sdk>=0.30.4->jina>=3.20.0->vectordb) (8.5.0)\n",
            "Collecting python-jose (from jina-hubble-sdk>=0.30.4->jina>=3.20.0->vectordb)\n",
            "  Downloading python_jose-3.3.0-py2.py3-none-any.whl.metadata (5.4 kB)\n",
            "Requirement already satisfied: deprecated>=1.2.6 in /usr/local/lib/python3.10/dist-packages (from opentelemetry-api>=1.12.0->jina>=3.20.0->vectordb) (1.2.15)\n",
            "Collecting opentelemetry-exporter-otlp-proto-http==1.28.2 (from opentelemetry-exporter-otlp>=1.12.0->jina>=3.20.0->vectordb)\n",
            "  Downloading opentelemetry_exporter_otlp_proto_http-1.28.2-py3-none-any.whl.metadata (2.2 kB)\n",
            "Requirement already satisfied: googleapis-common-protos~=1.52 in /usr/local/lib/python3.10/dist-packages (from opentelemetry-exporter-otlp-proto-grpc>=1.13.0->jina>=3.20.0->vectordb) (1.66.0)\n",
            "Collecting opentelemetry-exporter-otlp-proto-common==1.28.2 (from opentelemetry-exporter-otlp-proto-grpc>=1.13.0->jina>=3.20.0->vectordb)\n",
            "  Downloading opentelemetry_exporter_otlp_proto_common-1.28.2-py3-none-any.whl.metadata (1.8 kB)\n",
            "Collecting opentelemetry-proto==1.28.2 (from opentelemetry-exporter-otlp-proto-grpc>=1.13.0->jina>=3.20.0->vectordb)\n",
            "  Downloading opentelemetry_proto-1.28.2-py3-none-any.whl.metadata (2.3 kB)\n",
            "Collecting opentelemetry-instrumentation==0.49b2 (from opentelemetry-instrumentation-aiohttp-client>=0.33b0->jina>=3.20.0->vectordb)\n",
            "  Downloading opentelemetry_instrumentation-0.49b2-py3-none-any.whl.metadata (6.1 kB)\n",
            "Requirement already satisfied: opentelemetry-semantic-conventions==0.49b2 in /usr/local/lib/python3.10/dist-packages (from opentelemetry-instrumentation-aiohttp-client>=0.33b0->jina>=3.20.0->vectordb) (0.49b2)\n",
            "Collecting opentelemetry-util-http==0.49b2 (from opentelemetry-instrumentation-aiohttp-client>=0.33b0->jina>=3.20.0->vectordb)\n",
            "  Downloading opentelemetry_util_http-0.49b2-py3-none-any.whl.metadata (2.5 kB)\n",
            "Requirement already satisfied: wrapt<2.0.0,>=1.0.0 in /usr/local/lib/python3.10/dist-packages (from opentelemetry-instrumentation-aiohttp-client>=0.33b0->jina>=3.20.0->vectordb) (1.17.0)\n",
            "Collecting opentelemetry-instrumentation-asgi==0.49b2 (from opentelemetry-instrumentation-fastapi>=0.33b0->jina>=3.20.0->vectordb)\n",
            "  Downloading opentelemetry_instrumentation_asgi-0.49b2-py3-none-any.whl.metadata (1.9 kB)\n",
            "Collecting asgiref~=3.0 (from opentelemetry-instrumentation-asgi==0.49b2->opentelemetry-instrumentation-fastapi>=0.33b0->jina>=3.20.0->vectordb)\n",
            "  Downloading asgiref-3.8.1-py3-none-any.whl.metadata (9.3 kB)\n",
            "Requirement already satisfied: charset-normalizer<4,>=2 in /usr/local/lib/python3.10/dist-packages (from requests->jina>=3.20.0->vectordb) (3.4.0)\n",
            "Requirement already satisfied: idna<4,>=2.5 in /usr/local/lib/python3.10/dist-packages (from requests->jina>=3.20.0->vectordb) (3.10)\n",
            "Requirement already satisfied: certifi>=2017.4.17 in /usr/local/lib/python3.10/dist-packages (from requests->jina>=3.20.0->vectordb) (2024.8.30)\n",
            "Requirement already satisfied: markdown-it-py>=2.2.0 in /usr/local/lib/python3.10/dist-packages (from rich>=13.1.0->docarray>=0.34.0->docarray[hnswlib]>=0.34.0->vectordb) (3.0.0)\n",
            "Requirement already satisfied: pygments<3.0.0,>=2.13.0 in /usr/local/lib/python3.10/dist-packages (from rich>=13.1.0->docarray>=0.34.0->docarray[hnswlib]>=0.34.0->vectordb) (2.18.0)\n",
            "INFO: pip is looking at multiple versions of types-requests to determine which version is compatible with other requirements. This could take a while.\n",
            "Collecting types-requests>=2.28.11.6 (from docarray>=0.34.0->docarray[hnswlib]>=0.34.0->vectordb)\n",
            "  Downloading types_requests-2.32.0.20240914-py3-none-any.whl.metadata (1.9 kB)\n",
            "  Downloading types_requests-2.32.0.20240907-py3-none-any.whl.metadata (1.9 kB)\n",
            "  Downloading types_requests-2.32.0.20240905-py3-none-any.whl.metadata (1.9 kB)\n",
            "  Downloading types_requests-2.32.0.20240712-py3-none-any.whl.metadata (1.9 kB)\n",
            "  Downloading types_requests-2.32.0.20240622-py3-none-any.whl.metadata (1.8 kB)\n",
            "  Downloading types_requests-2.32.0.20240602-py3-none-any.whl.metadata (1.8 kB)\n",
            "  Downloading types_requests-2.32.0.20240523-py3-none-any.whl.metadata (1.8 kB)\n",
            "INFO: pip is still looking at multiple versions of types-requests to determine which version is compatible with other requirements. This could take a while.\n",
            "  Downloading types_requests-2.32.0.20240521-py3-none-any.whl.metadata (1.8 kB)\n",
            "  Downloading types_requests-2.31.0.20240406-py3-none-any.whl.metadata (1.8 kB)\n",
            "  Downloading types_requests-2.31.0.20240403-py3-none-any.whl.metadata (1.8 kB)\n",
            "  Downloading types_requests-2.31.0.20240402-py3-none-any.whl.metadata (1.8 kB)\n",
            "  Downloading types_requests-2.31.0.20240311-py3-none-any.whl.metadata (1.8 kB)\n",
            "INFO: This is taking longer than usual. You might need to provide the dependency resolver with stricter constraints to reduce runtime. See https://pip.pypa.io/warnings/backtracking for guidance. If you want to abort this run, press Ctrl + C.\n",
            "  Downloading types_requests-2.31.0.20240310-py3-none-any.whl.metadata (1.8 kB)\n",
            "  Downloading types_requests-2.31.0.20240218-py3-none-any.whl.metadata (1.8 kB)\n",
            "  Downloading types_requests-2.31.0.20240125-py3-none-any.whl.metadata (1.8 kB)\n",
            "  Downloading types_requests-2.31.0.20240106-py3-none-any.whl.metadata (1.8 kB)\n",
            "  Downloading types_requests-2.31.0.20231231-py3-none-any.whl.metadata (1.8 kB)\n",
            "  Downloading types_requests-2.31.0.10-py3-none-any.whl.metadata (1.8 kB)\n",
            "  Downloading types_requests-2.31.0.9-py3-none-any.whl.metadata (1.8 kB)\n",
            "  Downloading types_requests-2.31.0.8-py3-none-any.whl.metadata (1.6 kB)\n",
            "  Downloading types_requests-2.31.0.7-py3-none-any.whl.metadata (1.4 kB)\n",
            "  Downloading types_requests-2.31.0.6-py3-none-any.whl.metadata (1.4 kB)\n",
            "Collecting types-urllib3 (from types-requests>=2.28.11.6->docarray>=0.34.0->docarray[hnswlib]>=0.34.0->vectordb)\n",
            "  Downloading types_urllib3-1.26.25.14-py3-none-any.whl.metadata (1.7 kB)\n",
            "Collecting mypy-extensions>=0.3.0 (from typing-inspect>=0.8.0->docarray>=0.34.0->docarray[hnswlib]>=0.34.0->vectordb)\n",
            "  Downloading mypy_extensions-1.0.0-py3-none-any.whl.metadata (1.1 kB)\n",
            "Requirement already satisfied: click>=7.0 in /usr/local/lib/python3.10/dist-packages (from uvicorn<=0.23.1->uvicorn[standard]<=0.23.1->jina>=3.20.0->vectordb) (8.1.7)\n",
            "Requirement already satisfied: h11>=0.8 in /usr/local/lib/python3.10/dist-packages (from uvicorn<=0.23.1->uvicorn[standard]<=0.23.1->jina>=3.20.0->vectordb) (0.14.0)\n",
            "Collecting httptools>=0.5.0 (from uvicorn[standard]<=0.23.1->jina>=3.20.0->vectordb)\n",
            "  Downloading httptools-0.6.4-cp310-cp310-manylinux_2_5_x86_64.manylinux1_x86_64.manylinux_2_17_x86_64.manylinux2014_x86_64.whl.metadata (3.6 kB)\n",
            "Collecting watchfiles>=0.13 (from uvicorn[standard]<=0.23.1->jina>=3.20.0->vectordb)\n",
            "  Downloading watchfiles-1.0.0-cp310-cp310-manylinux_2_17_x86_64.manylinux2014_x86_64.whl.metadata (4.9 kB)\n",
            "Requirement already satisfied: zipp>=3.20 in /usr/local/lib/python3.10/dist-packages (from importlib-metadata->jina-hubble-sdk>=0.30.4->jina>=3.20.0->vectordb) (3.21.0)\n",
            "Requirement already satisfied: mdurl~=0.1 in /usr/local/lib/python3.10/dist-packages (from markdown-it-py>=2.2.0->rich>=13.1.0->docarray>=0.34.0->docarray[hnswlib]>=0.34.0->vectordb) (0.1.2)\n",
            "Requirement already satisfied: anyio<5,>=3.4.0 in /usr/local/lib/python3.10/dist-packages (from starlette<0.42.0,>=0.40.0->fastapi>=0.76.0->jina>=3.20.0->vectordb) (3.7.1)\n",
            "Requirement already satisfied: six>=1.5 in /usr/local/lib/python3.10/dist-packages (from python-dateutil->jcloud>=0.0.35->jina>=3.20.0->vectordb) (1.16.0)\n",
            "Collecting ecdsa!=0.15 (from python-jose->jina-hubble-sdk>=0.30.4->jina>=3.20.0->vectordb)\n",
            "  Downloading ecdsa-0.19.0-py2.py3-none-any.whl.metadata (29 kB)\n",
            "Requirement already satisfied: rsa in /usr/local/lib/python3.10/dist-packages (from python-jose->jina-hubble-sdk>=0.30.4->jina>=3.20.0->vectordb) (4.9)\n",
            "Requirement already satisfied: pyasn1 in /usr/local/lib/python3.10/dist-packages (from python-jose->jina-hubble-sdk>=0.30.4->jina>=3.20.0->vectordb) (0.6.1)\n",
            "Requirement already satisfied: sniffio>=1.1 in /usr/local/lib/python3.10/dist-packages (from anyio<5,>=3.4.0->starlette<0.42.0,>=0.40.0->fastapi>=0.76.0->jina>=3.20.0->vectordb) (1.3.1)\n",
            "Requirement already satisfied: exceptiongroup in /usr/local/lib/python3.10/dist-packages (from anyio<5,>=3.4.0->starlette<0.42.0,>=0.40.0->fastapi>=0.76.0->jina>=3.20.0->vectordb) (1.2.2)\n",
            "Downloading docarray-0.40.0-py3-none-any.whl (270 kB)\n",
            "\u001b[2K   \u001b[90m━━━━━━━━━━━━━━━━━━━━━━━━━━━━━━━━━━━━━━━━\u001b[0m \u001b[32m270.2/270.2 kB\u001b[0m \u001b[31m11.4 MB/s\u001b[0m eta \u001b[36m0:00:00\u001b[0m\n",
            "\u001b[?25hDownloading jina-3.28.0-cp310-cp310-manylinux_2_5_x86_64.manylinux1_x86_64.manylinux_2_17_x86_64.manylinux2014_x86_64.whl (7.9 MB)\n",
            "\u001b[2K   \u001b[90m━━━━━━━━━━━━━━━━━━━━━━━━━━━━━━━━━━━━━━━━\u001b[0m \u001b[32m7.9/7.9 MB\u001b[0m \u001b[31m3.7 MB/s\u001b[0m eta \u001b[36m0:00:00\u001b[0m\n",
            "\u001b[?25hDownloading fastapi-0.115.6-py3-none-any.whl (94 kB)\n",
            "\u001b[2K   \u001b[90m━━━━━━━━━━━━━━━━━━━━━━━━━━━━━━━━━━━━━━━━\u001b[0m \u001b[32m94.8/94.8 kB\u001b[0m \u001b[31m6.7 MB/s\u001b[0m eta \u001b[36m0:00:00\u001b[0m\n",
            "\u001b[?25hDownloading grpcio-1.68.0-cp310-cp310-manylinux_2_17_x86_64.manylinux2014_x86_64.whl (5.9 MB)\n",
            "\u001b[2K   \u001b[90m━━━━━━━━━━━━━━━━━━━━━━━━━━━━━━━━━━━━━━━━\u001b[0m \u001b[32m5.9/5.9 MB\u001b[0m \u001b[31m75.6 MB/s\u001b[0m eta \u001b[36m0:00:00\u001b[0m\n",
            "\u001b[?25hDownloading grpcio_health_checking-1.68.0-py3-none-any.whl (18 kB)\n",
            "Downloading grpcio_reflection-1.68.0-py3-none-any.whl (22 kB)\n",
            "Downloading jina_hubble_sdk-0.39.0-py3-none-any.whl (68 kB)\n",
            "\u001b[2K   \u001b[90m━━━━━━━━━━━━━━━━━━━━━━━━━━━━━━━━━━━━━━━━\u001b[0m \u001b[32m68.3/68.3 kB\u001b[0m \u001b[31m4.5 MB/s\u001b[0m eta \u001b[36m0:00:00\u001b[0m\n",
            "\u001b[?25hDownloading opentelemetry_exporter_otlp-1.28.2-py3-none-any.whl (7.0 kB)\n",
            "Downloading opentelemetry_exporter_otlp_proto_grpc-1.28.2-py3-none-any.whl (18 kB)\n",
            "Downloading opentelemetry_exporter_otlp_proto_common-1.28.2-py3-none-any.whl (18 kB)\n",
            "Downloading opentelemetry_exporter_otlp_proto_http-1.28.2-py3-none-any.whl (17 kB)\n",
            "Downloading opentelemetry_proto-1.28.2-py3-none-any.whl (55 kB)\n",
            "\u001b[2K   \u001b[90m━━━━━━━━━━━━━━━━━━━━━━━━━━━━━━━━━━━━━━━━\u001b[0m \u001b[32m55.8/55.8 kB\u001b[0m \u001b[31m3.9 MB/s\u001b[0m eta \u001b[36m0:00:00\u001b[0m\n",
            "\u001b[?25hDownloading opentelemetry_exporter_prometheus-0.49b2-py3-none-any.whl (12 kB)\n",
            "Downloading opentelemetry_instrumentation_aiohttp_client-0.49b2-py3-none-any.whl (11 kB)\n",
            "Downloading opentelemetry_instrumentation-0.49b2-py3-none-any.whl (30 kB)\n",
            "Downloading opentelemetry_util_http-0.49b2-py3-none-any.whl (6.9 kB)\n",
            "Downloading opentelemetry_instrumentation_fastapi-0.49b2-py3-none-any.whl (12 kB)\n",
            "Downloading opentelemetry_instrumentation_asgi-0.49b2-py3-none-any.whl (16 kB)\n",
            "Downloading opentelemetry_instrumentation_grpc-0.49b2-py3-none-any.whl (27 kB)\n",
            "Downloading protobuf-5.29.1-cp38-abi3-manylinux2014_x86_64.whl (319 kB)\n",
            "\u001b[2K   \u001b[90m━━━━━━━━━━━━━━━━━━━━━━━━━━━━━━━━━━━━━━━━\u001b[0m \u001b[32m319.7/319.7 kB\u001b[0m \u001b[31m16.0 MB/s\u001b[0m eta \u001b[36m0:00:00\u001b[0m\n",
            "\u001b[?25hDownloading pydantic-1.10.19-cp310-cp310-manylinux_2_17_x86_64.manylinux2014_x86_64.whl (3.1 MB)\n",
            "\u001b[2K   \u001b[90m━━━━━━━━━━━━━━━━━━━━━━━━━━━━━━━━━━━━━━━━\u001b[0m \u001b[32m3.1/3.1 MB\u001b[0m \u001b[31m73.5 MB/s\u001b[0m eta \u001b[36m0:00:00\u001b[0m\n",
            "\u001b[?25hDownloading types_requests-2.31.0.6-py3-none-any.whl (14 kB)\n",
            "Downloading typing_inspect-0.9.0-py3-none-any.whl (8.8 kB)\n",
            "Downloading urllib3-1.26.20-py2.py3-none-any.whl (144 kB)\n",
            "\u001b[2K   \u001b[90m━━━━━━━━━━━━━━━━━━━━━━━━━━━━━━━━━━━━━━━━\u001b[0m \u001b[32m144.2/144.2 kB\u001b[0m \u001b[31m9.7 MB/s\u001b[0m eta \u001b[36m0:00:00\u001b[0m\n",
            "\u001b[?25hDownloading uvicorn-0.23.1-py3-none-any.whl (59 kB)\n",
            "\u001b[2K   \u001b[90m━━━━━━━━━━━━━━━━━━━━━━━━━━━━━━━━━━━━━━━━\u001b[0m \u001b[32m59.5/59.5 kB\u001b[0m \u001b[31m3.9 MB/s\u001b[0m eta \u001b[36m0:00:00\u001b[0m\n",
            "\u001b[?25hDownloading uvloop-0.21.0-cp310-cp310-manylinux_2_17_x86_64.manylinux2014_x86_64.whl (3.8 MB)\n",
            "\u001b[2K   \u001b[90m━━━━━━━━━━━━━━━━━━━━━━━━━━━━━━━━━━━━━━━━\u001b[0m \u001b[32m3.8/3.8 MB\u001b[0m \u001b[31m75.5 MB/s\u001b[0m eta \u001b[36m0:00:00\u001b[0m\n",
            "\u001b[?25hDownloading websockets-14.1-cp310-cp310-manylinux_2_5_x86_64.manylinux1_x86_64.manylinux_2_17_x86_64.manylinux2014_x86_64.whl (168 kB)\n",
            "\u001b[2K   \u001b[90m━━━━━━━━━━━━━━━━━━━━━━━━━━━━━━━━━━━━━━━━\u001b[0m \u001b[32m168.2/168.2 kB\u001b[0m \u001b[31m8.8 MB/s\u001b[0m eta \u001b[36m0:00:00\u001b[0m\n",
            "\u001b[?25hDownloading aiofiles-24.1.0-py3-none-any.whl (15 kB)\n",
            "Downloading docker-7.1.0-py3-none-any.whl (147 kB)\n",
            "\u001b[2K   \u001b[90m━━━━━━━━━━━━━━━━━━━━━━━━━━━━━━━━━━━━━━━━\u001b[0m \u001b[32m147.8/147.8 kB\u001b[0m \u001b[31m10.6 MB/s\u001b[0m eta \u001b[36m0:00:00\u001b[0m\n",
            "\u001b[?25hDownloading pathspec-0.12.1-py3-none-any.whl (31 kB)\n",
            "Downloading python_multipart-0.0.19-py3-none-any.whl (24 kB)\n",
            "Downloading httptools-0.6.4-cp310-cp310-manylinux_2_5_x86_64.manylinux1_x86_64.manylinux_2_17_x86_64.manylinux2014_x86_64.whl (442 kB)\n",
            "\u001b[2K   \u001b[90m━━━━━━━━━━━━━━━━━━━━━━━━━━━━━━━━━━━━━━━━\u001b[0m \u001b[32m442.1/442.1 kB\u001b[0m \u001b[31m26.0 MB/s\u001b[0m eta \u001b[36m0:00:00\u001b[0m\n",
            "\u001b[?25hDownloading mypy_extensions-1.0.0-py3-none-any.whl (4.7 kB)\n",
            "Downloading python_dotenv-1.0.1-py3-none-any.whl (19 kB)\n",
            "Downloading starlette-0.41.3-py3-none-any.whl (73 kB)\n",
            "\u001b[2K   \u001b[90m━━━━━━━━━━━━━━━━━━━━━━━━━━━━━━━━━━━━━━━━\u001b[0m \u001b[32m73.2/73.2 kB\u001b[0m \u001b[31m5.0 MB/s\u001b[0m eta \u001b[36m0:00:00\u001b[0m\n",
            "\u001b[?25hDownloading watchfiles-1.0.0-cp310-cp310-manylinux_2_17_x86_64.manylinux2014_x86_64.whl (442 kB)\n",
            "\u001b[2K   \u001b[90m━━━━━━━━━━━━━━━━━━━━━━━━━━━━━━━━━━━━━━━━\u001b[0m \u001b[32m442.6/442.6 kB\u001b[0m \u001b[31m23.8 MB/s\u001b[0m eta \u001b[36m0:00:00\u001b[0m\n",
            "\u001b[?25hDownloading python_jose-3.3.0-py2.py3-none-any.whl (33 kB)\n",
            "Downloading types_urllib3-1.26.25.14-py3-none-any.whl (15 kB)\n",
            "Downloading asgiref-3.8.1-py3-none-any.whl (23 kB)\n",
            "Downloading ecdsa-0.19.0-py2.py3-none-any.whl (149 kB)\n",
            "\u001b[2K   \u001b[90m━━━━━━━━━━━━━━━━━━━━━━━━━━━━━━━━━━━━━━━━\u001b[0m \u001b[32m149.3/149.3 kB\u001b[0m \u001b[31m10.2 MB/s\u001b[0m eta \u001b[36m0:00:00\u001b[0m\n",
            "\u001b[?25hBuilding wheels for collected packages: vectordb, hnswlib, jcloud\n",
            "  Building wheel for vectordb (setup.py) ... \u001b[?25l\u001b[?25hdone\n",
            "  Created wheel for vectordb: filename=vectordb-0.0.21-py3-none-any.whl size=27458 sha256=dc581a08d90ffd9494cfd50ab8104bfd8f7ec8c13269e42bd1d648e22b926ce5\n",
            "  Stored in directory: /root/.cache/pip/wheels/10/ae/66/0d9d768c18a8c1027970da8d209192de44ce66588c4dfab344\n",
            "  Building wheel for hnswlib (pyproject.toml) ... \u001b[?25l\u001b[?25hdone\n",
            "  Created wheel for hnswlib: filename=hnswlib-0.8.0-cp310-cp310-linux_x86_64.whl size=2360799 sha256=0b0990ba8e108513a32e6eb1125c355fcb020e8e181880fcccff08f322fe73b4\n",
            "  Stored in directory: /root/.cache/pip/wheels/af/a9/3e/3e5d59ee41664eb31a4e6de67d1846f86d16d93c45f277c4e7\n",
            "  Building wheel for jcloud (pyproject.toml) ... \u001b[?25l\u001b[?25hdone\n",
            "  Created wheel for jcloud: filename=jcloud-0.3-py3-none-any.whl size=46469 sha256=cd567911ceff3163bb7d325f818904e8e7eb8eeb88519656b82893a6b29cfaae\n",
            "  Stored in directory: /root/.cache/pip/wheels/4d/66/bc/e0fe53791a7205fbb7ce1f6e2e1187afdf1ec8f1fce2e8c8d4\n",
            "Successfully built vectordb hnswlib jcloud\n",
            "Installing collected packages: types-urllib3, websockets, uvloop, uvicorn, urllib3, types-requests, python-multipart, python-dotenv, pydantic, protobuf, pathspec, opentelemetry-util-http, mypy-extensions, httptools, hnswlib, grpcio, ecdsa, asgiref, aiofiles, watchfiles, typing-inspect, starlette, python-jose, opentelemetry-proto, grpcio-reflection, grpcio-health-checking, opentelemetry-exporter-otlp-proto-common, fastapi, docker, docarray, opentelemetry-instrumentation, jina-hubble-sdk, opentelemetry-instrumentation-grpc, opentelemetry-instrumentation-asgi, opentelemetry-instrumentation-aiohttp-client, opentelemetry-exporter-prometheus, opentelemetry-exporter-otlp-proto-http, opentelemetry-exporter-otlp-proto-grpc, jcloud, opentelemetry-instrumentation-fastapi, opentelemetry-exporter-otlp, jina, vectordb\n",
            "  Attempting uninstall: urllib3\n",
            "    Found existing installation: urllib3 2.2.3\n",
            "    Uninstalling urllib3-2.2.3:\n",
            "      Successfully uninstalled urllib3-2.2.3\n",
            "  Attempting uninstall: pydantic\n",
            "    Found existing installation: pydantic 2.10.2\n",
            "    Uninstalling pydantic-2.10.2:\n",
            "      Successfully uninstalled pydantic-2.10.2\n",
            "  Attempting uninstall: protobuf\n",
            "    Found existing installation: protobuf 4.25.5\n",
            "    Uninstalling protobuf-4.25.5:\n",
            "      Successfully uninstalled protobuf-4.25.5\n",
            "  Attempting uninstall: grpcio\n",
            "    Found existing installation: grpcio 1.68.1\n",
            "    Uninstalling grpcio-1.68.1:\n",
            "      Successfully uninstalled grpcio-1.68.1\n",
            "\u001b[31mERROR: pip's dependency resolver does not currently take into account all the packages that are installed. This behaviour is the source of the following dependency conflicts.\n",
            "albumentations 1.4.20 requires pydantic>=2.7.0, but you have pydantic 1.10.19 which is incompatible.\n",
            "langchain 0.3.9 requires pydantic<3.0.0,>=2.7.4, but you have pydantic 1.10.19 which is incompatible.\n",
            "langchain-core 0.3.21 requires pydantic<3.0.0,>=2.5.2; python_full_version < \"3.12.4\", but you have pydantic 1.10.19 which is incompatible.\n",
            "tensorflow 2.17.1 requires protobuf!=4.21.0,!=4.21.1,!=4.21.2,!=4.21.3,!=4.21.4,!=4.21.5,<5.0.0dev,>=3.20.3, but you have protobuf 5.29.1 which is incompatible.\n",
            "tensorflow-metadata 1.13.1 requires protobuf<5,>=3.20.3, but you have protobuf 5.29.1 which is incompatible.\u001b[0m\u001b[31m\n",
            "\u001b[0mSuccessfully installed aiofiles-24.1.0 asgiref-3.8.1 docarray-0.40.0 docker-7.1.0 ecdsa-0.19.0 fastapi-0.115.6 grpcio-1.68.0 grpcio-health-checking-1.68.0 grpcio-reflection-1.68.0 hnswlib-0.8.0 httptools-0.6.4 jcloud-0.3 jina-3.28.0 jina-hubble-sdk-0.39.0 mypy-extensions-1.0.0 opentelemetry-exporter-otlp-1.28.2 opentelemetry-exporter-otlp-proto-common-1.28.2 opentelemetry-exporter-otlp-proto-grpc-1.28.2 opentelemetry-exporter-otlp-proto-http-1.28.2 opentelemetry-exporter-prometheus-0.49b2 opentelemetry-instrumentation-0.49b2 opentelemetry-instrumentation-aiohttp-client-0.49b2 opentelemetry-instrumentation-asgi-0.49b2 opentelemetry-instrumentation-fastapi-0.49b2 opentelemetry-instrumentation-grpc-0.49b2 opentelemetry-proto-1.28.2 opentelemetry-util-http-0.49b2 pathspec-0.12.1 protobuf-5.29.1 pydantic-1.10.19 python-dotenv-1.0.1 python-jose-3.3.0 python-multipart-0.0.19 starlette-0.41.3 types-requests-2.31.0.6 types-urllib3-1.26.25.14 typing-inspect-0.9.0 urllib3-1.26.20 uvicorn-0.23.1 uvloop-0.21.0 vectordb-0.0.21 watchfiles-1.0.0 websockets-14.1\n"
          ]
        }
      ],
      "source": [
        "!pip install vectordb"
      ]
    },
    {
      "cell_type": "markdown",
      "metadata": {
        "id": "L4_ysgbQx-jF"
      },
      "source": [
        "Now we'll parse out all of the scripts and extract every line of dialog from \"DATA\". This is almost exactly the same code as from our fine tuning example's preprocessing script. Note you will need to upload all of the script files into a tng folder within your sample_data folder in your CoLab workspace first.\n",
        "\n",
        "An archive can be found at https://www.st-minutiae.com/resources/scripts/ (look for \"All TNG Epsiodes\"), but you could easily adapt this to read scripts from your favorite character from your favorite TV show or movie instead."
      ]
    },
    {
      "cell_type": "code",
      "execution_count": 2,
      "metadata": {
        "id": "dLjupJ8rLXr6"
      },
      "outputs": [],
      "source": [
        "import os\n",
        "import re\n",
        "import random\n",
        "\n",
        "dialogues = []\n",
        "\n",
        "def strip_parentheses(s):\n",
        "    return re.sub(r'\\(.*?\\)', '', s)\n",
        "\n",
        "def is_single_word_all_caps(s):\n",
        "    # First, we split the string into words\n",
        "    words = s.split()\n",
        "\n",
        "    # Check if the string contains only a single word\n",
        "    if len(words) != 1:\n",
        "        return False\n",
        "\n",
        "    # Make sure it isn't a line number\n",
        "    if bool(re.search(r'\\d', words[0])):\n",
        "        return False\n",
        "\n",
        "    # Check if the single word is in all caps\n",
        "    return words[0].isupper()\n",
        "\n",
        "def extract_character_lines(file_path, character_name):\n",
        "    lines = []\n",
        "    with open(file_path, 'r') as script_file:\n",
        "        try:\n",
        "          lines = script_file.readlines()\n",
        "        except UnicodeDecodeError:\n",
        "          pass\n",
        "\n",
        "    is_character_line = False\n",
        "    current_line = ''\n",
        "    current_character = ''\n",
        "    for line in lines:\n",
        "        strippedLine = line.strip()\n",
        "        if (is_single_word_all_caps(strippedLine)):\n",
        "            is_character_line = True\n",
        "            current_character = strippedLine\n",
        "        elif (line.strip() == '') and is_character_line:\n",
        "            is_character_line = False\n",
        "            dialog_line = strip_parentheses(current_line).strip()\n",
        "            dialog_line = dialog_line.replace('\"', \"'\")\n",
        "            if (current_character == 'DATA' and len(dialog_line)>0):\n",
        "                dialogues.append(dialog_line)\n",
        "            current_line = ''\n",
        "        elif is_character_line:\n",
        "            current_line += line.strip() + ' '\n",
        "\n",
        "def process_directory(directory_path, character_name):\n",
        "    for filename in os.listdir(directory_path):\n",
        "        file_path = os.path.join(directory_path, filename)\n",
        "        if os.path.isfile(file_path):  # Ignore directories\n",
        "            extract_character_lines(file_path, character_name)\n",
        "\n"
      ]
    },
    {
      "cell_type": "code",
      "execution_count": 5,
      "metadata": {
        "id": "Yh3peBSuMiyx"
      },
      "outputs": [],
      "source": [
        "process_directory(\"./tng\", 'DATA')"
      ]
    },
    {
      "cell_type": "markdown",
      "metadata": {
        "id": "jqjo_OdEyeNF"
      },
      "source": [
        "Let's do a little sanity check to make sure the lines imported correctly, and print out the first one."
      ]
    },
    {
      "cell_type": "code",
      "execution_count": 6,
      "metadata": {
        "colab": {
          "base_uri": "https://localhost:8080/"
        },
        "id": "x5dPI-29Myxo",
        "outputId": "bf6fae06-d9f5-46e0-bd0b-3dbba8c06620"
      },
      "outputs": [
        {
          "output_type": "stream",
          "name": "stdout",
          "text": [
            "There is nothing wrong with the Transporter. I have run a complete diagnostic and checked all the targeting components.\n"
          ]
        }
      ],
      "source": [
        "print (dialogues[0])"
      ]
    },
    {
      "cell_type": "markdown",
      "metadata": {
        "id": "7x4s4hOnyqIr"
      },
      "source": [
        "Now we'll set up what a document in our vector database looks like; it's just a string and its embedding vector. We're going with 128 dimensions in our embeddings to keep it simple, but you could go larger. The OpenAI model we're using has up to 1536 I believe."
      ]
    },
    {
      "cell_type": "code",
      "execution_count": 9,
      "metadata": {
        "id": "S15N5wi2QMvn"
      },
      "outputs": [],
      "source": [
        "from docarray import BaseDoc\n",
        "from docarray.typing import NdArray\n",
        "\n",
        "embedding_dimensions = 128\n",
        "\n",
        "class DialogLine(BaseDoc):\n",
        "  text: str = ''\n",
        "  embedding: NdArray[embedding_dimensions]"
      ]
    },
    {
      "cell_type": "markdown",
      "metadata": {
        "id": "8W1jJUxty9kk"
      },
      "source": [
        "It's time to start computing embeddings for each line in OpenAI, so let's make sure OpenAI is installed:"
      ]
    },
    {
      "cell_type": "code",
      "execution_count": 10,
      "metadata": {
        "colab": {
          "base_uri": "https://localhost:8080/"
        },
        "id": "4Sqtgr4kQQG9",
        "outputId": "9bb24b19-9373-427b-c419-bcb647c2a360"
      },
      "outputs": [
        {
          "output_type": "stream",
          "name": "stdout",
          "text": [
            "Requirement already satisfied: openai in /usr/local/lib/python3.10/dist-packages (1.54.5)\n",
            "Collecting openai\n",
            "  Downloading openai-1.57.0-py3-none-any.whl.metadata (24 kB)\n",
            "Requirement already satisfied: anyio<5,>=3.5.0 in /usr/local/lib/python3.10/dist-packages (from openai) (3.7.1)\n",
            "Requirement already satisfied: distro<2,>=1.7.0 in /usr/local/lib/python3.10/dist-packages (from openai) (1.9.0)\n",
            "Requirement already satisfied: httpx<1,>=0.23.0 in /usr/local/lib/python3.10/dist-packages (from openai) (0.28.0)\n",
            "Requirement already satisfied: jiter<1,>=0.4.0 in /usr/local/lib/python3.10/dist-packages (from openai) (0.8.0)\n",
            "Requirement already satisfied: pydantic<3,>=1.9.0 in /usr/local/lib/python3.10/dist-packages (from openai) (1.10.19)\n",
            "Requirement already satisfied: sniffio in /usr/local/lib/python3.10/dist-packages (from openai) (1.3.1)\n",
            "Requirement already satisfied: tqdm>4 in /usr/local/lib/python3.10/dist-packages (from openai) (4.66.6)\n",
            "Requirement already satisfied: typing-extensions<5,>=4.11 in /usr/local/lib/python3.10/dist-packages (from openai) (4.12.2)\n",
            "Requirement already satisfied: idna>=2.8 in /usr/local/lib/python3.10/dist-packages (from anyio<5,>=3.5.0->openai) (3.10)\n",
            "Requirement already satisfied: exceptiongroup in /usr/local/lib/python3.10/dist-packages (from anyio<5,>=3.5.0->openai) (1.2.2)\n",
            "Requirement already satisfied: certifi in /usr/local/lib/python3.10/dist-packages (from httpx<1,>=0.23.0->openai) (2024.8.30)\n",
            "Requirement already satisfied: httpcore==1.* in /usr/local/lib/python3.10/dist-packages (from httpx<1,>=0.23.0->openai) (1.0.7)\n",
            "Requirement already satisfied: h11<0.15,>=0.13 in /usr/local/lib/python3.10/dist-packages (from httpcore==1.*->httpx<1,>=0.23.0->openai) (0.14.0)\n",
            "Downloading openai-1.57.0-py3-none-any.whl (389 kB)\n",
            "\u001b[2K   \u001b[90m━━━━━━━━━━━━━━━━━━━━━━━━━━━━━━━━━━━━━━━━\u001b[0m \u001b[32m389.9/389.9 kB\u001b[0m \u001b[31m7.6 MB/s\u001b[0m eta \u001b[36m0:00:00\u001b[0m\n",
            "\u001b[?25hInstalling collected packages: openai\n",
            "  Attempting uninstall: openai\n",
            "    Found existing installation: openai 1.54.5\n",
            "    Uninstalling openai-1.54.5:\n",
            "      Successfully uninstalled openai-1.54.5\n",
            "Successfully installed openai-1.57.0\n"
          ]
        }
      ],
      "source": [
        "!pip install openai --upgrade"
      ]
    },
    {
      "cell_type": "markdown",
      "metadata": {
        "id": "Y8oMwMzOzFLD"
      },
      "source": [
        "Let's initialize the OpenAI client, and test creating an embedding for a single line of dialog just to make sure it works.\n",
        "\n",
        "You will need to provide your own OpenAI secret key here. To use this code as-is, click on the little key icon in CoLab and add a \"secret\" for OPENAI_API_KEY that points to your secret key."
      ]
    },
    {
      "cell_type": "code",
      "execution_count": 11,
      "metadata": {
        "colab": {
          "base_uri": "https://localhost:8080/"
        },
        "id": "4kJhWeYySMWL",
        "outputId": "46d38c51-1199-4672-96e5-e9560e891f38"
      },
      "outputs": [
        {
          "output_type": "stream",
          "name": "stdout",
          "text": [
            "[-0.03758013993501663, 0.08628898113965988, -0.10480914264917374, 0.07370690256357193, -0.12482419610023499, -0.017160212621092796, 0.01953751966357231, 0.026264572516083717, 0.012488648295402527, -0.05294439569115639, -0.13171735405921936, 0.15854251384735107, 0.06440529972314835, -0.008756587281823158, -0.00834133755415678, -0.01131556648761034, 0.08267630636692047, -0.14351046085357666, -0.09924478828907013, 0.08587373048067093, 0.10107188671827316, 0.10082273930311203, 0.06369937211275101, 0.01558226253837347, -0.07416367530822754, -0.1201733946800232, 0.09284993261098862, -0.026368385180830956, 0.04044536501169205, 0.04385041818022728, 0.17955416440963745, -0.06781034916639328, 0.09010928124189377, -0.16095095872879028, -0.12075474858283997, 0.011564716696739197, -0.11228363960981369, 0.09550753980875015, 0.0169006809592247, 0.006291039753705263, 0.10754979401826859, -0.022651895880699158, -0.10306508839130402, 0.07096625119447708, 0.03432042524218559, -0.12822924554347992, -0.10190238803625107, -0.023814596235752106, -0.044847019016742706, 0.008081805892288685, 0.045926667749881744, -0.012415979988873005, -0.12382759898900986, 0.15206460654735565, -0.045054640620946884, -0.0632425993680954, -0.121834397315979, -0.0573875717818737, 0.1658509075641632, -0.0857076346874237, -0.08313307911157608, 0.034569576382637024, 0.05830112099647522, 0.08317460864782333, 0.015115105547010899, 0.08466950803995132, 0.0013807067880406976, 0.043102964758872986, -0.17174746096134186, 0.006285849492996931, 0.09974309056997299, 0.08383900672197342, 0.027800997719168663, -0.03388441354036331, 0.03884665295481682, -0.0561833456158638, -0.004746828228235245, -0.11095484346151352, -0.02456204779446125, -0.006571333855390549, -0.006965821608901024, -0.23951628804206848, 0.06673070043325424, -0.18055076897144318, -0.03946952894330025, -0.0927668884396553, 0.05751214548945427, -0.08475255966186523, -0.16784411668777466, 0.029960298910737038, -0.011948822997510433, 0.0420648418366909, 0.014575280249118805, 0.0031896403525024652, -0.03540007770061493, -0.09816513955593109, 0.045926667749881744, -0.1996522694826126, 0.0010264464654028416, 0.05817654728889465, -0.02037840150296688, -0.022776471450924873, 0.002170979743823409, -0.11809714883565903, 0.2805429995059967, 0.04289534315466881, 0.04426566883921623, -0.0186654943972826, -0.06120787188410759, 0.016506193205714226, 0.14990530908107758, -0.03309543803334236, 0.014575280249118805, 0.04208560287952423, -0.08234410732984543, 0.006306611932814121, -0.07312555611133575, 0.034486524760723114, -0.13312919437885284, 0.12191744893789291, -0.09916173666715622, 0.11494124680757523, -0.008102568797767162, -0.046175818890333176, -0.0042121936567127705, -0.04542836919426918, 0.13545459508895874, -0.15729676187038422]\n"
          ]
        }
      ],
      "source": [
        "from google.colab import userdata\n",
        "\n",
        "from openai import OpenAI\n",
        "client = OpenAI(api_key=userdata.get('OPENAI_API_KEY'))\n",
        "\n",
        "embedding_model = \"text-embedding-3-small\"\n",
        "\n",
        "response = client.embeddings.create(\n",
        "    input=dialogues[1],\n",
        "    dimensions=embedding_dimensions,\n",
        "    model= embedding_model\n",
        ")\n",
        "\n",
        "print(response.data[0].embedding)"
      ]
    },
    {
      "cell_type": "markdown",
      "metadata": {
        "id": "NQVaAlcwzeCM"
      },
      "source": [
        "Let's double check that we do in fact have embeddings of 128 dimensions as we specified."
      ]
    },
    {
      "cell_type": "code",
      "execution_count": 12,
      "metadata": {
        "colab": {
          "base_uri": "https://localhost:8080/"
        },
        "id": "PtXBxhTmShNs",
        "outputId": "902970b4-4a02-4852-dfb2-a2270ad807b4"
      },
      "outputs": [
        {
          "output_type": "stream",
          "name": "stdout",
          "text": [
            "128\n"
          ]
        }
      ],
      "source": [
        "print(len(response.data[0].embedding))"
      ]
    },
    {
      "cell_type": "markdown",
      "metadata": {
        "id": "mRk4NnRVzjDz"
      },
      "source": [
        "OK, now let's compute embeddings for every line Data ever said. The OpenAI API currently can't handle computing them all at once, so we're breaking it up into 128 lines at a time here."
      ]
    },
    {
      "cell_type": "code",
      "execution_count": 13,
      "metadata": {
        "id": "TyFFTJmGcdlt"
      },
      "outputs": [],
      "source": [
        "#Generate embeddings for everything Data ever said, 128 lines at a time.\n",
        "embeddings = []\n",
        "\n",
        "for i in range(0, len(dialogues), 128):\n",
        "  dialog_slice = dialogues[i:i+128]\n",
        "  slice_embeddings = client.embeddings.create(\n",
        "    input=dialog_slice,\n",
        "    dimensions=embedding_dimensions,\n",
        "    model=embedding_model\n",
        "  )\n",
        "\n",
        "  embeddings.extend(slice_embeddings.data)"
      ]
    },
    {
      "cell_type": "markdown",
      "metadata": {
        "id": "aA5XuIUZzs_b"
      },
      "source": [
        "Let's check how many embeddings we actually got back in total."
      ]
    },
    {
      "cell_type": "code",
      "execution_count": 14,
      "metadata": {
        "colab": {
          "base_uri": "https://localhost:8080/"
        },
        "id": "kuBDo7PUsVJZ",
        "outputId": "2f4190fa-77ef-4c3a-da1d-3071210d665e"
      },
      "outputs": [
        {
          "output_type": "stream",
          "name": "stdout",
          "text": [
            "6502\n"
          ]
        }
      ],
      "source": [
        "print (len(embeddings))"
      ]
    },
    {
      "cell_type": "markdown",
      "metadata": {
        "id": "sKrU5tvcz1Vq"
      },
      "source": [
        "Now let's insert every line and its embedding vector into our vector database. The syntax here will vary depending on which vector database you are using, but it's pretty simple.\n",
        "\n",
        "With vectordb, we need to set up a workspace folder for it to use, so be sure to create that within your CoLab drive first."
      ]
    },
    {
      "cell_type": "code",
      "execution_count": 15,
      "metadata": {
        "colab": {
          "base_uri": "https://localhost:8080/"
        },
        "id": "vVLSnCO7bRo1",
        "outputId": "1e28b09c-afa4-46dd-8e1f-5e326ae31348"
      },
      "outputs": [
        {
          "output_type": "stream",
          "name": "stderr",
          "text": [
            "WARNING - docarray - Index file does not exist: /content/sample_data/workspace/InMemoryExactNNIndexer[DialogLine][DialogLineWithMatchesAndScores]/index.bin. Initializing empty InMemoryExactNNIndex.\n",
            "WARNING:docarray:Index file does not exist: /content/sample_data/workspace/InMemoryExactNNIndexer[DialogLine][DialogLineWithMatchesAndScores]/index.bin. Initializing empty InMemoryExactNNIndex.\n"
          ]
        },
        {
          "output_type": "execute_result",
          "data": {
            "text/plain": [
              "<DocList[DialogLine] (length=6502)>"
            ]
          },
          "metadata": {},
          "execution_count": 15
        }
      ],
      "source": [
        "from docarray import DocList\n",
        "import numpy as np\n",
        "from vectordb import InMemoryExactNNVectorDB\n",
        "\n",
        "# Specify your workspace path\n",
        "db = InMemoryExactNNVectorDB[DialogLine](workspace='./sample_data/workspace')\n",
        "\n",
        "# Index our list of documents\n",
        "doc_list = [DialogLine(text=dialogues[i], embedding=embeddings[i].embedding) for i in range(len(embeddings))]\n",
        "db.index(inputs=DocList[DialogLine](doc_list))\n"
      ]
    },
    {
      "cell_type": "markdown",
      "metadata": {
        "id": "Fxormngx0IFz"
      },
      "source": [
        "Let's try querying our vector database for lines similar to a query string.\n",
        "\n",
        "First we need to compute the embedding vector for our query string, then we'll query the vector database for the top 10 matches based on the similarities encoded by their embedding vectors."
      ]
    },
    {
      "cell_type": "code",
      "execution_count": 16,
      "metadata": {
        "colab": {
          "base_uri": "https://localhost:8080/",
          "height": 1000
        },
        "id": "woU_o_qS0FuD",
        "outputId": "0c328d7f-f1c4-49de-fdc4-d56acd6ebee6"
      },
      "outputs": [
        {
          "output_type": "display_data",
          "data": {
            "text/plain": [],
            "text/html": [
              "<pre style=\"white-space:pre;overflow-x:auto;line-height:normal;font-family:Menlo,'DejaVu Sans Mono',consolas,'Courier New',monospace\"></pre>\n"
            ]
          },
          "metadata": {}
        },
        {
          "output_type": "stream",
          "name": "stdout",
          "text": [
            "\u001b[1;35mDialogLine\u001b[0m\u001b[1m(\u001b[0m\n",
            "    \u001b[33mid\u001b[0m=\u001b[32m'1b3de93db6a705e0b20ef69217ebac85'\u001b[0m,\n",
            "    \u001b[33mtext\u001b[0m=\u001b[32m'That is Lal, my daughter.'\u001b[0m,\n",
            "    \u001b[33membedding\u001b[0m=\u001b[1;35mNdArray\u001b[0m\u001b[1m(\u001b[0m\u001b[1m[\u001b[0m \u001b[1;36m1.27265751e-01\u001b[0m, \u001b[1;36m-2.11700285e-03\u001b[0m, \u001b[1;36m-1.36252213e-02\u001b[0m,\n",
            "          \u001b[1;36m1.58263575e-02\u001b[0m,  \u001b[1;36m5.45372665e-02\u001b[0m, \u001b[1;36m-2.06834134e-02\u001b[0m,\n",
            "          \u001b[1;36m1.56717319e-02\u001b[0m,  \u001b[1;36m8.31702426e-02\u001b[0m, \u001b[1;36m-1.62265643e-01\u001b[0m,\n",
            "          \u001b[1;36m1.61083210e-02\u001b[0m,  \u001b[1;36m3.72374207e-02\u001b[0m, \u001b[1;36m-1.14313602e-01\u001b[0m,\n",
            "         \u001b[1;36m-4.84250188e-02\u001b[0m, \u001b[1;36m-2.47546062e-01\u001b[0m,  \u001b[1;36m3.90747339e-02\u001b[0m,\n",
            "          \u001b[1;36m4.99894619e-02\u001b[0m,  \u001b[1;36m2.99245510e-02\u001b[0m, \u001b[1;36m-1.34687766e-01\u001b[0m,\n",
            "         \u001b[1;36m-1.76527560e-01\u001b[0m,  \u001b[1;36m1.35560945e-01\u001b[0m,  \u001b[1;36m1.45020381e-01\u001b[0m,\n",
            "          \u001b[1;36m3.50180902e-02\u001b[0m,  \u001b[1;36m6.63979352e-02\u001b[0m, \u001b[1;36m-7.41837770e-02\u001b[0m,\n",
            "          \u001b[1;36m6.95995912e-02\u001b[0m, \u001b[1;36m-2.22160225e-03\u001b[0m,  \u001b[1;36m1.92681357e-01\u001b[0m,\n",
            "         \u001b[1;36m-7.92409405e-02\u001b[0m, \u001b[1;36m-3.14344205e-02\u001b[0m, \u001b[1;36m-6.27596974e-02\u001b[0m,\n",
            "          \u001b[1;36m7.94592351e-02\u001b[0m, \u001b[1;36m-1.12858303e-01\u001b[0m, \u001b[1;36m-3.74011397e-02\u001b[0m,\n",
            "         \u001b[1;36m-3.84198502e-02\u001b[0m, \u001b[1;36m-8.36795941e-02\u001b[0m,  \u001b[1;36m9.28479657e-02\u001b[0m,\n",
            "         \u001b[1;36m-7.23100826e-03\u001b[0m, \u001b[1;36m-2.10108552e-02\u001b[0m, \u001b[1;36m-4.71152514e-02\u001b[0m,\n",
            "         \u001b[1;36m-8.76816586e-02\u001b[0m, \u001b[1;36m-1.85986996e-01\u001b[0m, \u001b[1;36m-1.15696132e-01\u001b[0m,\n",
            "          \u001b[1;36m5.83210401e-02\u001b[0m,  \u001b[1;36m6.38875514e-02\u001b[0m,  \u001b[1;36m6.97451234e-02\u001b[0m,\n",
            "          \u001b[1;36m9.05194879e-02\u001b[0m, \u001b[1;36m-2.15092942e-01\u001b[0m,  \u001b[1;36m1.16351016e-01\u001b[0m,\n",
            "         \u001b[1;36m-5.90850711e-02\u001b[0m,  \u001b[1;36m3.15617584e-02\u001b[0m, \u001b[1;36m-3.17254812e-02\u001b[0m,\n",
            "          \u001b[1;36m6.83989748e-02\u001b[0m,  \u001b[1;36m9.11743715e-02\u001b[0m,  \u001b[1;36m2.14074224e-01\u001b[0m,\n",
            "         \u001b[1;36m-9.96878669e-02\u001b[0m, \u001b[1;36m-5.43917343e-03\u001b[0m,  \u001b[1;36m3.12525108e-02\u001b[0m,\n",
            "          \u001b[1;36m1.86132520e-01\u001b[0m,  \u001b[1;36m3.36355604e-02\u001b[0m, \u001b[1;36m-3.67280655e-02\u001b[0m,\n",
            "         \u001b[1;36m-1.42400846e-01\u001b[0m,  \u001b[1;36m6.72711208e-02\u001b[0m,  \u001b[1;36m5.06807268e-02\u001b[0m,\n",
            "         \u001b[1;36m-4.16578837e-02\u001b[0m, \u001b[1;36m-9.13926661e-02\u001b[0m, \u001b[1;36m-4.61374735e-03\u001b[0m,\n",
            "         \u001b[1;36m-1.11330241e-01\u001b[0m,  \u001b[1;36m4.23127674e-02\u001b[0m, \u001b[1;36m-3.13798487e-02\u001b[0m,\n",
            "          \u001b[1;36m7.50205740e-02\u001b[0m,  \u001b[1;36m4.19853255e-02\u001b[0m,  \u001b[1;36m8.14238861e-02\u001b[0m,\n",
            "         \u001b[1;36m-1.53388336e-01\u001b[0m,  \u001b[1;36m3.08159199e-02\u001b[0m, \u001b[1;36m-7.17097744e-02\u001b[0m,\n",
            "         \u001b[1;36m-1.13949776e-01\u001b[0m, \u001b[1;36m-1.35997534e-01\u001b[0m, \u001b[1;36m-2.53767464e-02\u001b[0m,\n",
            "          \u001b[1;36m1.41964257e-01\u001b[0m, \u001b[1;36m-1.93736460e-02\u001b[0m,  \u001b[1;36m7.22646061e-03\u001b[0m,\n",
            "         \u001b[1;36m-2.24661510e-02\u001b[0m, \u001b[1;36m-1.54079599e-02\u001b[0m,  \u001b[1;36m2.44308040e-02\u001b[0m,\n",
            "          \u001b[1;36m3.55820172e-02\u001b[0m, \u001b[1;36m-1.10020474e-01\u001b[0m, \u001b[1;36m-5.45736477e-02\u001b[0m,\n",
            "         \u001b[1;36m-1.47075979e-02\u001b[0m, \u001b[1;36m-5.16994372e-02\u001b[0m, \u001b[1;36m-3.95658938e-03\u001b[0m,\n",
            "         \u001b[1;36m-5.14811426e-02\u001b[0m,  \u001b[1;36m2.46672891e-02\u001b[0m, \u001b[1;36m-1.12931073e-01\u001b[0m,\n",
            "         \u001b[1;36m-1.72270816e-02\u001b[0m,  \u001b[1;36m6.35601059e-02\u001b[0m,  \u001b[1;36m7.16006234e-02\u001b[0m,\n",
            "          \u001b[1;36m3.59094590e-02\u001b[0m,  \u001b[1;36m3.18892002e-02\u001b[0m, \u001b[1;36m-3.24531309e-02\u001b[0m,\n",
            "         \u001b[1;36m-1.92644987e-02\u001b[0m,  \u001b[1;36m9.14654359e-02\u001b[0m, \u001b[1;36m-7.77856410e-02\u001b[0m,\n",
            "         \u001b[1;36m-4.67514247e-02\u001b[0m, \u001b[1;36m-1.28066167e-01\u001b[0m, \u001b[1;36m-3.12888925e-03\u001b[0m,\n",
            "          \u001b[1;36m1.30976751e-01\u001b[0m,  \u001b[1;36m7.58937523e-02\u001b[0m, \u001b[1;36m-2.47036722e-02\u001b[0m,\n",
            "         \u001b[1;36m-1.13804251e-01\u001b[0m,  \u001b[1;36m9.53219756e-02\u001b[0m, \u001b[1;36m-2.12909997e-01\u001b[0m,\n",
            "         \u001b[1;36m-7.30923042e-02\u001b[0m, \u001b[1;36m-6.31599054e-02\u001b[0m, \u001b[1;36m-2.43534916e-03\u001b[0m,\n",
            "          \u001b[1;36m7.93137029e-02\u001b[0m, \u001b[1;36m-7.68397003e-02\u001b[0m, \u001b[1;36m-2.36258423e-03\u001b[0m,\n",
            "         \u001b[1;36m-5.68475481e-03\u001b[0m, \u001b[1;36m-3.31443958e-02\u001b[0m, \u001b[1;36m-1.29594222e-01\u001b[0m,\n",
            "          \u001b[1;36m7.11276531e-02\u001b[0m,  \u001b[1;36m2.76142657e-02\u001b[0m, \u001b[1;36m-2.83419155e-02\u001b[0m,\n",
            "         \u001b[1;36m-2.07816452e-01\u001b[0m, \u001b[1;36m-9.48126167e-02\u001b[0m, \u001b[1;36m-1.69996917e-02\u001b[0m,\n",
            "         \u001b[1;36m-2.09909573e-04\u001b[0m,  \u001b[1;36m1.64084770e-02\u001b[0m\u001b[1m]\u001b[0m\u001b[1m)\u001b[0m\n",
            "\u001b[1m)\u001b[0m\n"
          ]
        },
        {
          "output_type": "display_data",
          "data": {
            "text/plain": [],
            "text/html": [
              "<pre style=\"white-space:pre;overflow-x:auto;line-height:normal;font-family:Menlo,'DejaVu Sans Mono',consolas,'Courier New',monospace\"></pre>\n"
            ]
          },
          "metadata": {}
        },
        {
          "output_type": "stream",
          "name": "stdout",
          "text": [
            "\u001b[1;35mDialogLine\u001b[0m\u001b[1m(\u001b[0m\n",
            "    \u001b[33mid\u001b[0m=\u001b[32m'c5fccb716877bf71e32c025d2631a1ba'\u001b[0m,\n",
            "    \u001b[33mtext\u001b[0m=\u001b[32m'Lal...'\u001b[0m,\n",
            "    \u001b[33membedding\u001b[0m=\u001b[1;35mNdArray\u001b[0m\u001b[1m(\u001b[0m\u001b[1m[\u001b[0m \u001b[1;36m0.12624386\u001b[0m, \u001b[1;36m-0.00786039\u001b[0m,  \u001b[1;36m0.0723554\u001b[0m , \u001b[1;36m-0.01190999\u001b[0m,  \u001b[1;36m0.08779759\u001b[0m,\n",
            "         \u001b[1;36m-0.08612601\u001b[0m,  \u001b[1;36m0.07199721\u001b[0m,  \u001b[1;36m0.05364966\u001b[0m, \u001b[1;36m-0.12719904\u001b[0m,  \u001b[1;36m0.05285367\u001b[0m,\n",
            "          \u001b[1;36m0.01209903\u001b[0m, \u001b[1;36m-0.15458107\u001b[0m, \u001b[1;36m-0.00163675\u001b[0m, \u001b[1;36m-0.08238486\u001b[0m,  \u001b[1;36m0.09360831\u001b[0m,\n",
            "          \u001b[1;36m0.01698442\u001b[0m,  \u001b[1;36m0.02431746\u001b[0m, \u001b[1;36m-0.08011629\u001b[0m, \u001b[1;36m-0.08644441\u001b[0m,  \u001b[1;36m0.17511758\u001b[0m,\n",
            "          \u001b[1;36m0.09002636\u001b[0m,  \u001b[1;36m0.09177753\u001b[0m, \u001b[1;36m-0.05396806\u001b[0m, \u001b[1;36m-0.01933258\u001b[0m,  \u001b[1;36m0.12536827\u001b[0m,\n",
            "          \u001b[1;36m0.01859629\u001b[0m,  \u001b[1;36m0.09520029\u001b[0m, \u001b[1;36m-0.01391986\u001b[0m,  \u001b[1;36m0.04029695\u001b[0m,  \u001b[1;36m0.01715356\u001b[0m,\n",
            "         \u001b[1;36m-0.00565152\u001b[0m, \u001b[1;36m-0.10984649\u001b[0m, \u001b[1;36m-0.0086912\u001b[0m , \u001b[1;36m-0.10674213\u001b[0m, \u001b[1;36m-0.08413604\u001b[0m,\n",
            "          \u001b[1;36m0.17177443\u001b[0m,  \u001b[1;36m0.02738202\u001b[0m, \u001b[1;36m-0.11191606\u001b[0m, \u001b[1;36m-0.06001757\u001b[0m, \u001b[1;36m-0.08222567\u001b[0m,\n",
            "         \u001b[1;36m-0.19979325\u001b[0m, \u001b[1;36m-0.12759703\u001b[0m,  \u001b[1;36m0.0654303\u001b[0m ,  \u001b[1;36m0.07279319\u001b[0m,  \u001b[1;36m0.1015682\u001b[0m ,\n",
            "          \u001b[1;36m0.05635602\u001b[0m, \u001b[1;36m-0.23131441\u001b[0m,  \u001b[1;36m0.03973975\u001b[0m, \u001b[1;36m-0.01740231\u001b[0m,  \u001b[1;36m0.0578684\u001b[0m ,\n",
            "         \u001b[1;36m-0.09615547\u001b[0m,  \u001b[1;36m0.07339019\u001b[0m,  \u001b[1;36m0.09249392\u001b[0m,  \u001b[1;36m0.2098227\u001b[0m , \u001b[1;36m-0.07645474\u001b[0m,\n",
            "         \u001b[1;36m-0.0181187\u001b[0m , \u001b[1;36m-0.01944203\u001b[0m,  \u001b[1;36m0.10745852\u001b[0m,  \u001b[1;36m0.04740115\u001b[0m, \u001b[1;36m-0.01587003\u001b[0m,\n",
            "         \u001b[1;36m-0.11621439\u001b[0m, \u001b[1;36m-0.0360782\u001b[0m ,  \u001b[1;36m0.0799571\u001b[0m , \u001b[1;36m-0.0938471\u001b[0m , \u001b[1;36m-0.08628521\u001b[0m,\n",
            "         \u001b[1;36m-0.1085729\u001b[0m , \u001b[1;36m-0.15330748\u001b[0m,  \u001b[1;36m0.11836357\u001b[0m,  \u001b[1;36m0.02015842\u001b[0m,  \u001b[1;36m0.15338708\u001b[0m,\n",
            "         \u001b[1;36m-0.02722283\u001b[0m,  \u001b[1;36m0.010517\u001b[0m  , \u001b[1;36m-0.10387657\u001b[0m,  \u001b[1;36m0.06085336\u001b[0m,  \u001b[1;36m0.00903945\u001b[0m,\n",
            "         \u001b[1;36m-0.0505055\u001b[0m , \u001b[1;36m-0.03490412\u001b[0m,  \u001b[1;36m0.00826336\u001b[0m,  \u001b[1;36m0.13691011\u001b[0m, \u001b[1;36m-0.06646508\u001b[0m,\n",
            "         \u001b[1;36m-0.03066548\u001b[0m, \u001b[1;36m-0.0945635\u001b[0m , \u001b[1;36m-0.07526077\u001b[0m, \u001b[1;36m-0.029372\u001b[0m  ,  \u001b[1;36m0.12600507\u001b[0m,\n",
            "         \u001b[1;36m-0.159357\u001b[0m  , \u001b[1;36m-0.12449268\u001b[0m,  \u001b[1;36m0.01078565\u001b[0m, \u001b[1;36m-0.10419496\u001b[0m, \u001b[1;36m-0.0510627\u001b[0m ,\n",
            "          \u001b[1;36m0.06829586\u001b[0m,  \u001b[1;36m0.01233783\u001b[0m, \u001b[1;36m-0.11693079\u001b[0m, \u001b[1;36m-0.03289425\u001b[0m,  \u001b[1;36m0.09328991\u001b[0m,\n",
            "          \u001b[1;36m0.04684395\u001b[0m,  \u001b[1;36m0.029173\u001b[0m  , \u001b[1;36m-0.01986988\u001b[0m,  \u001b[1;36m0.06379852\u001b[0m,  \u001b[1;36m0.00430332\u001b[0m,\n",
            "          \u001b[1;36m0.04664496\u001b[0m, \u001b[1;36m-0.04927172\u001b[0m, \u001b[1;36m-0.04178942\u001b[0m, \u001b[1;36m-0.11040368\u001b[0m,  \u001b[1;36m0.08923037\u001b[0m,\n",
            "          \u001b[1;36m0.04537138\u001b[0m, \u001b[1;36m-0.02276529\u001b[0m, \u001b[1;36m-0.01155179\u001b[0m, \u001b[1;36m-0.00643259\u001b[0m,  \u001b[1;36m0.05985837\u001b[0m,\n",
            "         \u001b[1;36m-0.08994676\u001b[0m, \u001b[1;36m-0.03036698\u001b[0m, \u001b[1;36m-0.04167002\u001b[0m, \u001b[1;36m-0.03271515\u001b[0m,  \u001b[1;36m0.0651915\u001b[0m ,\n",
            "         \u001b[1;36m-0.06586809\u001b[0m,  \u001b[1;36m0.08095209\u001b[0m, \u001b[1;36m-0.12759703\u001b[0m,  \u001b[1;36m0.01325322\u001b[0m, \u001b[1;36m-0.17161523\u001b[0m,\n",
            "          \u001b[1;36m0.02738202\u001b[0m, \u001b[1;36m-0.08891197\u001b[0m,  \u001b[1;36m0.02282499\u001b[0m, \u001b[1;36m-0.24373184\u001b[0m, \u001b[1;36m-0.15187471\u001b[0m,\n",
            "         \u001b[1;36m-0.1156572\u001b[0m ,  \u001b[1;36m0.06348012\u001b[0m,  \u001b[1;36m0.06582829\u001b[0m\u001b[1m]\u001b[0m\u001b[1m)\u001b[0m\n",
            "\u001b[1m)\u001b[0m\n"
          ]
        },
        {
          "output_type": "display_data",
          "data": {
            "text/plain": [],
            "text/html": [
              "<pre style=\"white-space:pre;overflow-x:auto;line-height:normal;font-family:Menlo,'DejaVu Sans Mono',consolas,'Courier New',monospace\"></pre>\n"
            ]
          },
          "metadata": {}
        },
        {
          "output_type": "stream",
          "name": "stdout",
          "text": [
            "\u001b[1;35mDialogLine\u001b[0m\u001b[1m(\u001b[0m\n",
            "    \u001b[33mid\u001b[0m=\u001b[32m'3981c3142c4072e703d3914395bce401'\u001b[0m,\n",
            "    \u001b[33mtext\u001b[0m=\u001b[32m'What do you feel, Lal?'\u001b[0m,\n",
            "    \u001b[33membedding\u001b[0m=\u001b[1;35mNdArray\u001b[0m\u001b[1m(\u001b[0m\u001b[1m[\u001b[0m \u001b[1;36m0.12465294\u001b[0m, \u001b[1;36m-0.05501634\u001b[0m, \u001b[1;36m-0.01713312\u001b[0m,  \u001b[1;36m0.04995255\u001b[0m,  \u001b[1;36m0.13775025\u001b[0m,\n",
            "         \u001b[1;36m-0.00806208\u001b[0m,  \u001b[1;36m0.01483918\u001b[0m, \u001b[1;36m-0.00800973\u001b[0m, \u001b[1;36m-0.04306123\u001b[0m,  \u001b[1;36m0.10569229\u001b[0m,\n",
            "          \u001b[1;36m0.00161813\u001b[0m, \u001b[1;36m-0.10675836\u001b[0m, \u001b[1;36m-0.10995653\u001b[0m, \u001b[1;36m-0.13280068\u001b[0m,  \u001b[1;36m0.00802401\u001b[0m,\n",
            "          \u001b[1;36m0.00701982\u001b[0m,  \u001b[1;36m0.06765677\u001b[0m, \u001b[1;36m-0.1011996\u001b[0m , \u001b[1;36m-0.11102259\u001b[0m,  \u001b[1;36m0.0690655\u001b[0m ,\n",
            "          \u001b[1;36m0.11292627\u001b[0m,  \u001b[1;36m0.01652394\u001b[0m, \u001b[1;36m-0.07744168\u001b[0m, \u001b[1;36m-0.02025515\u001b[0m,  \u001b[1;36m0.11033727\u001b[0m,\n",
            "         \u001b[1;36m-0.15671091\u001b[0m,  \u001b[1;36m0.09960052\u001b[0m,  \u001b[1;36m0.03504674\u001b[0m, \u001b[1;36m-0.04945759\u001b[0m,  \u001b[1;36m0.03036369\u001b[0m,\n",
            "         \u001b[1;36m-0.02910726\u001b[0m, \u001b[1;36m-0.10500697\u001b[0m, \u001b[1;36m-0.02423384\u001b[0m, \u001b[1;36m-0.14848702\u001b[0m, \u001b[1;36m-0.09815372\u001b[0m,\n",
            "          \u001b[1;36m0.06209803\u001b[0m, \u001b[1;36m-0.0683421\u001b[0m , \u001b[1;36m-0.0249382\u001b[0m ,  \u001b[1;36m0.00796214\u001b[0m, \u001b[1;36m-0.11543913\u001b[0m,\n",
            "         \u001b[1;36m-0.21153688\u001b[0m, \u001b[1;36m-0.08063987\u001b[0m,  \u001b[1;36m0.05193238\u001b[0m,  \u001b[1;36m0.09145277\u001b[0m,  \u001b[1;36m0.08863533\u001b[0m,\n",
            "         \u001b[1;36m-0.0198173\u001b[0m , \u001b[1;36m-0.17072199\u001b[0m,  \u001b[1;36m0.05139935\u001b[0m, \u001b[1;36m-0.05947095\u001b[0m,  \u001b[1;36m0.0353894\u001b[0m ,\n",
            "         \u001b[1;36m-0.03557977\u001b[0m,  \u001b[1;36m0.01050831\u001b[0m,  \u001b[1;36m0.10531156\u001b[0m,  \u001b[1;36m0.2812877\u001b[0m , \u001b[1;36m-0.12061714\u001b[0m,\n",
            "         \u001b[1;36m-0.0105559\u001b[0m , \u001b[1;36m-0.07401507\u001b[0m,  \u001b[1;36m0.08482797\u001b[0m,  \u001b[1;36m0.06586731\u001b[0m,  \u001b[1;36m0.02851712\u001b[0m,\n",
            "         \u001b[1;36m-0.24686918\u001b[0m, \u001b[1;36m-0.03028754\u001b[0m,  \u001b[1;36m0.02712743\u001b[0m, \u001b[1;36m-0.14635488\u001b[0m, \u001b[1;36m-0.14551727\u001b[0m,\n",
            "         \u001b[1;36m-0.06533428\u001b[0m, \u001b[1;36m-0.14962922\u001b[0m,  \u001b[1;36m0.04675437\u001b[0m, \u001b[1;36m-0.01185041\u001b[0m,  \u001b[1;36m0.08399034\u001b[0m,\n",
            "         \u001b[1;36m-0.06251684\u001b[0m,  \u001b[1;36m0.10607303\u001b[0m,  \u001b[1;36m0.0197602\u001b[0m ,  \u001b[1;36m0.06518199\u001b[0m, \u001b[1;36m-0.03594147\u001b[0m,\n",
            "         \u001b[1;36m-0.14056771\u001b[0m, \u001b[1;36m-0.03801648\u001b[0m, \u001b[1;36m-0.1162006\u001b[0m ,  \u001b[1;36m0.07896463\u001b[0m, \u001b[1;36m-0.01218355\u001b[0m,\n",
            "         \u001b[1;36m-0.02724165\u001b[0m, \u001b[1;36m-0.05874755\u001b[0m, \u001b[1;36m-0.03997727\u001b[0m,  \u001b[1;36m0.09792528\u001b[0m,  \u001b[1;36m0.0987629\u001b[0m ,\n",
            "         \u001b[1;36m-0.11147948\u001b[0m, \u001b[1;36m-0.09899134\u001b[0m,  \u001b[1;36m0.09465095\u001b[0m, \u001b[1;36m-0.08947294\u001b[0m, \u001b[1;36m-0.01400156\u001b[0m,\n",
            "          \u001b[1;36m0.08185823\u001b[0m,  \u001b[1;36m0.04976219\u001b[0m, \u001b[1;36m-0.11224095\u001b[0m,  \u001b[1;36m0.03201989\u001b[0m,  \u001b[1;36m0.00365744\u001b[0m,\n",
            "          \u001b[1;36m0.03516096\u001b[0m,  \u001b[1;36m0.11536299\u001b[0m,  \u001b[1;36m0.01968405\u001b[0m, \u001b[1;36m-0.05155164\u001b[0m,  \u001b[1;36m0.02771758\u001b[0m,\n",
            "          \u001b[1;36m0.01958886\u001b[0m, \u001b[1;36m-0.02775565\u001b[0m,  \u001b[1;36m0.01875124\u001b[0m, \u001b[1;36m-0.07736554\u001b[0m,  \u001b[1;36m0.05178009\u001b[0m,\n",
            "          \u001b[1;36m0.1011996\u001b[0m ,  \u001b[1;36m0.02469072\u001b[0m,  \u001b[1;36m0.06061316\u001b[0m, \u001b[1;36m-0.0049686\u001b[0m ,  \u001b[1;36m0.06975082\u001b[0m,\n",
            "         \u001b[1;36m-0.20194234\u001b[0m, \u001b[1;36m-0.06506777\u001b[0m, \u001b[1;36m-0.10660606\u001b[0m,  \u001b[1;36m0.07199717\u001b[0m, \u001b[1;36m-0.00273178\u001b[0m,\n",
            "         \u001b[1;36m-0.07618526\u001b[0m, \u001b[1;36m-0.0505998\u001b[0m ,  \u001b[1;36m0.02337719\u001b[0m,  \u001b[1;36m0.01808496\u001b[0m, \u001b[1;36m-0.145898\u001b[0m  ,\n",
            "          \u001b[1;36m0.00625835\u001b[0m, \u001b[1;36m-0.05543515\u001b[0m, \u001b[1;36m-0.00068413\u001b[0m, \u001b[1;36m-0.21336441\u001b[0m, \u001b[1;36m-0.14772554\u001b[0m,\n",
            "          \u001b[1;36m0.01825629\u001b[0m,  \u001b[1;36m0.05398835\u001b[0m,  \u001b[1;36m0.00827625\u001b[0m\u001b[1m]\u001b[0m\u001b[1m)\u001b[0m\n",
            "\u001b[1m)\u001b[0m\n"
          ]
        },
        {
          "output_type": "display_data",
          "data": {
            "text/plain": [],
            "text/html": [
              "<pre style=\"white-space:pre;overflow-x:auto;line-height:normal;font-family:Menlo,'DejaVu Sans Mono',consolas,'Courier New',monospace\"></pre>\n"
            ]
          },
          "metadata": {}
        },
        {
          "output_type": "stream",
          "name": "stdout",
          "text": [
            "\u001b[1;35mDialogLine\u001b[0m\u001b[1m(\u001b[0m\n",
            "    \u001b[33mid\u001b[0m=\u001b[32m'db76d73cd8e72e946ad345fdf8b7ca1f'\u001b[0m,\n",
            "    \u001b[33mtext\u001b[0m=\u001b[32m'Yes, Lal. I am here.'\u001b[0m,\n",
            "    \u001b[33membedding\u001b[0m=\u001b[1;35mNdArray\u001b[0m\u001b[1m(\u001b[0m\u001b[1m[\u001b[0m \u001b[1;36m0.02406189\u001b[0m,  \u001b[1;36m0.0076022\u001b[0m , \u001b[1;36m-0.02174187\u001b[0m, \u001b[1;36m-0.08027258\u001b[0m,  \u001b[1;36m0.14105701\u001b[0m,\n",
            "          \u001b[1;36m0.01713498\u001b[0m, \u001b[1;36m-0.00146865\u001b[0m,  \u001b[1;36m0.07795256\u001b[0m, \u001b[1;36m-0.12296089\u001b[0m,  \u001b[1;36m0.03393853\u001b[0m,\n",
            "         \u001b[1;36m-0.04454432\u001b[0m, \u001b[1;36m-0.07311367\u001b[0m, \u001b[1;36m-0.0004552\u001b[0m , \u001b[1;36m-0.09644641\u001b[0m, \u001b[1;36m-0.0334911\u001b[0m ,\n",
            "          \u001b[1;36m0.08869093\u001b[0m, \u001b[1;36m-0.03317624\u001b[0m,  \u001b[1;36m0.06751249\u001b[0m, \u001b[1;36m-0.10652191\u001b[0m,  \u001b[1;36m0.17884015\u001b[0m,\n",
            "          \u001b[1;36m0.05631012\u001b[0m, \u001b[1;36m-0.06787706\u001b[0m, \u001b[1;36m-0.03364024\u001b[0m,  \u001b[1;36m0.0674462\u001b[0m ,  \u001b[1;36m0.08650348\u001b[0m,\n",
            "          \u001b[1;36m0.0283042\u001b[0m ,  \u001b[1;36m0.08192974\u001b[0m, \u001b[1;36m-0.00113308\u001b[0m, \u001b[1;36m-0.0859732\u001b[0m , \u001b[1;36m-0.01215523\u001b[0m,\n",
            "          \u001b[1;36m0.01736698\u001b[0m, \u001b[1;36m-0.12329232\u001b[0m, \u001b[1;36m-0.14543191\u001b[0m, \u001b[1;36m-0.02265331\u001b[0m, \u001b[1;36m-0.06131473\u001b[0m,\n",
            "          \u001b[1;36m0.09014922\u001b[0m,  \u001b[1;36m0.05389068\u001b[0m,  \u001b[1;36m0.04762663\u001b[0m, \u001b[1;36m-0.05054322\u001b[0m, \u001b[1;36m-0.18838537\u001b[0m,\n",
            "         \u001b[1;36m-0.15351883\u001b[0m, \u001b[1;36m-0.13449469\u001b[0m,  \u001b[1;36m0.08670234\u001b[0m,  \u001b[1;36m0.08961894\u001b[0m, \u001b[1;36m-0.02131101\u001b[0m,\n",
            "          \u001b[1;36m0.03930771\u001b[0m, \u001b[1;36m-0.21489984\u001b[0m,  \u001b[1;36m0.05597869\u001b[0m, \u001b[1;36m-0.06986565\u001b[0m,  \u001b[1;36m0.08120058\u001b[0m,\n",
            "         \u001b[1;36m-0.05528269\u001b[0m, \u001b[1;36m-0.01455811\u001b[0m,  \u001b[1;36m0.06118216\u001b[0m,  \u001b[1;36m0.3067725\u001b[0m , \u001b[1;36m-0.01912357\u001b[0m,\n",
            "         \u001b[1;36m-0.02530476\u001b[0m,  \u001b[1;36m0.03940714\u001b[0m,  \u001b[1;36m0.16664349\u001b[0m,  \u001b[1;36m0.07377654\u001b[0m, \u001b[1;36m-0.07848285\u001b[0m,\n",
            "         \u001b[1;36m-0.14118959\u001b[0m, \u001b[1;36m-0.00345102\u001b[0m,  \u001b[1;36m0.03246366\u001b[0m, \u001b[1;36m-0.10095388\u001b[0m, \u001b[1;36m-0.14569706\u001b[0m,\n",
            "         \u001b[1;36m-0.06979936\u001b[0m, \u001b[1;36m-0.05680727\u001b[0m,  \u001b[1;36m0.10493105\u001b[0m, \u001b[1;36m-0.06582219\u001b[0m, \u001b[1;36m-0.01227952\u001b[0m,\n",
            "          \u001b[1;36m0.00403517\u001b[0m,  \u001b[1;36m0.06618676\u001b[0m, \u001b[1;36m-0.05657527\u001b[0m,  \u001b[1;36m0.05939243\u001b[0m, \u001b[1;36m-0.0516038\u001b[0m ,\n",
            "          \u001b[1;36m0.00312995\u001b[0m, \u001b[1;36m-0.14278047\u001b[0m,  \u001b[1;36m0.03241395\u001b[0m,  \u001b[1;36m0.0744394\u001b[0m , \u001b[1;36m-0.03692141\u001b[0m,\n",
            "         \u001b[1;36m-0.06492732\u001b[0m, \u001b[1;36m-0.00411182\u001b[0m, \u001b[1;36m-0.05979015\u001b[0m, \u001b[1;36m-0.04268831\u001b[0m, \u001b[1;36m-0.04222431\u001b[0m,\n",
            "         \u001b[1;36m-0.08133316\u001b[0m, \u001b[1;36m-0.1488788\u001b[0m ,  \u001b[1;36m0.11368082\u001b[0m, \u001b[1;36m-0.01063893\u001b[0m,  \u001b[1;36m0.0020528\u001b[0m ,\n",
            "          \u001b[1;36m0.05571355\u001b[0m,  \u001b[1;36m0.04722891\u001b[0m, \u001b[1;36m-0.11905\u001b[0m   , \u001b[1;36m-0.06148044\u001b[0m,  \u001b[1;36m0.07994115\u001b[0m,\n",
            "          \u001b[1;36m0.00743648\u001b[0m,  \u001b[1;36m0.07139023\u001b[0m,  \u001b[1;36m0.07888057\u001b[0m,  \u001b[1;36m0.06068501\u001b[0m,  \u001b[1;36m0.06509304\u001b[0m,\n",
            "          \u001b[1;36m0.16306403\u001b[0m, \u001b[1;36m-0.09710927\u001b[0m, \u001b[1;36m-0.04205859\u001b[0m, \u001b[1;36m-0.19156711\u001b[0m,  \u001b[1;36m0.00507504\u001b[0m,\n",
            "          \u001b[1;36m0.12143631\u001b[0m,  \u001b[1;36m0.07331253\u001b[0m,  \u001b[1;36m0.03639112\u001b[0m, \u001b[1;36m-0.06376732\u001b[0m,  \u001b[1;36m0.08524404\u001b[0m,\n",
            "         \u001b[1;36m-0.1992563\u001b[0m , \u001b[1;36m-0.14861365\u001b[0m, \u001b[1;36m-0.05034436\u001b[0m,  \u001b[1;36m0.00226616\u001b[0m, \u001b[1;36m-0.0340711\u001b[0m ,\n",
            "         \u001b[1;36m-0.01461611\u001b[0m,  \u001b[1;36m0.0379157\u001b[0m ,  \u001b[1;36m0.02392932\u001b[0m,  \u001b[1;36m0.00271566\u001b[0m, \u001b[1;36m-0.04978093\u001b[0m,\n",
            "          \u001b[1;36m0.15550742\u001b[0m,  \u001b[1;36m0.03781627\u001b[0m,  \u001b[1;36m0.04978093\u001b[0m, \u001b[1;36m-0.19740029\u001b[0m, \u001b[1;36m-0.12779978\u001b[0m,\n",
            "         \u001b[1;36m-0.00327081\u001b[0m, \u001b[1;36m-0.04630091\u001b[0m, \u001b[1;36m-0.02436018\u001b[0m\u001b[1m]\u001b[0m\u001b[1m)\u001b[0m\n",
            "\u001b[1m)\u001b[0m\n"
          ]
        },
        {
          "output_type": "display_data",
          "data": {
            "text/plain": [],
            "text/html": [
              "<pre style=\"white-space:pre;overflow-x:auto;line-height:normal;font-family:Menlo,'DejaVu Sans Mono',consolas,'Courier New',monospace\"></pre>\n"
            ]
          },
          "metadata": {}
        },
        {
          "output_type": "stream",
          "name": "stdout",
          "text": [
            "\u001b[1;35mDialogLine\u001b[0m\u001b[1m(\u001b[0m\n",
            "    \u001b[33mid\u001b[0m=\u001b[32m'e921159cab576333491114a08033770e'\u001b[0m,\n",
            "    \u001b[33mtext\u001b[0m=\u001b[32m'Correct, Lal. We are a family.'\u001b[0m,\n",
            "    \u001b[33membedding\u001b[0m=\u001b[1;35mNdArray\u001b[0m\u001b[1m(\u001b[0m\u001b[1m[\u001b[0m \u001b[1;36m0.09100991\u001b[0m,  \u001b[1;36m0.0581608\u001b[0m , \u001b[1;36m-0.08708344\u001b[0m,  \u001b[1;36m0.09970423\u001b[0m,  \u001b[1;36m0.10328012\u001b[0m,\n",
            "         \u001b[1;36m-0.01977257\u001b[0m, \u001b[1;36m-0.05738953\u001b[0m,  \u001b[1;36m0.05514583\u001b[0m, \u001b[1;36m-0.16827717\u001b[0m, \u001b[1;36m-0.0163632\u001b[0m ,\n",
            "          \u001b[1;36m0.04042158\u001b[0m, \u001b[1;36m-0.07572473\u001b[0m, \u001b[1;36m-0.07635577\u001b[0m, \u001b[1;36m-0.13819763\u001b[0m, \u001b[1;36m-0.00211113\u001b[0m,\n",
            "          \u001b[1;36m0.0199128\u001b[0m ,  \u001b[1;36m0.11477906\u001b[0m, \u001b[1;36m-0.06636431\u001b[0m, \u001b[1;36m-0.05970334\u001b[0m,  \u001b[1;36m0.11127328\u001b[0m,\n",
            "          \u001b[1;36m0.11449859\u001b[0m, \u001b[1;36m-0.08098339\u001b[0m,  \u001b[1;36m0.06348958\u001b[0m, \u001b[1;36m-0.1027192\u001b[0m ,  \u001b[1;36m0.0597384\u001b[0m ,\n",
            "         \u001b[1;36m-0.10166746\u001b[0m,  \u001b[1;36m0.09781111\u001b[0m,  \u001b[1;36m0.00349044\u001b[0m,  \u001b[1;36m0.01412827\u001b[0m,  \u001b[1;36m0.01319048\u001b[0m,\n",
            "          \u001b[1;36m0.01670502\u001b[0m, \u001b[1;36m-0.09346395\u001b[0m, \u001b[1;36m-0.08708344\u001b[0m,  \u001b[1;36m0.02823901\u001b[0m, \u001b[1;36m-0.11022155\u001b[0m,\n",
            "          \u001b[1;36m0.17977612\u001b[0m,  \u001b[1;36m0.02618814\u001b[0m,  \u001b[1;36m0.03199019\u001b[0m,  \u001b[1;36m0.00651636\u001b[0m, \u001b[1;36m-0.08946737\u001b[0m,\n",
            "         \u001b[1;36m-0.19702452\u001b[0m, \u001b[1;36m-0.08575124\u001b[0m,  \u001b[1;36m0.04196412\u001b[0m, \u001b[1;36m-0.00586341\u001b[0m,  \u001b[1;36m0.05332283\u001b[0m,\n",
            "          \u001b[1;36m0.00796687\u001b[0m, \u001b[1;36m-0.13882867\u001b[0m,  \u001b[1;36m0.17949566\u001b[0m, \u001b[1;36m-0.02790597\u001b[0m, \u001b[1;36m-0.00922019\u001b[0m,\n",
            "         \u001b[1;36m-0.05234122\u001b[0m,  \u001b[1;36m0.03638994\u001b[0m,  \u001b[1;36m0.0683626\u001b[0m ,  \u001b[1;36m0.10566404\u001b[0m, \u001b[1;36m-0.11428825\u001b[0m,\n",
            "         \u001b[1;36m-0.04511932\u001b[0m,  \u001b[1;36m0.03177984\u001b[0m,  \u001b[1;36m0.11078247\u001b[0m,  \u001b[1;36m0.01077149\u001b[0m, \u001b[1;36m-0.01471549\u001b[0m,\n",
            "         \u001b[1;36m-0.11456871\u001b[0m,  \u001b[1;36m0.0129626\u001b[0m , \u001b[1;36m-0.00300182\u001b[0m, \u001b[1;36m-0.12389407\u001b[0m, \u001b[1;36m-0.03638994\u001b[0m,\n",
            "         \u001b[1;36m-0.07036089\u001b[0m, \u001b[1;36m-0.00477662\u001b[0m,  \u001b[1;36m0.04066699\u001b[0m,  \u001b[1;36m0.04617105\u001b[0m,  \u001b[1;36m0.0954973\u001b[0m ,\n",
            "          \u001b[1;36m0.02487347\u001b[0m,  \u001b[1;36m0.04999235\u001b[0m, \u001b[1;36m-0.1832819\u001b[0m ,  \u001b[1;36m0.07263965\u001b[0m, \u001b[1;36m-0.01866825\u001b[0m,\n",
            "         \u001b[1;36m-0.05402398\u001b[0m, \u001b[1;36m-0.14429767\u001b[0m, \u001b[1;36m-0.04122791\u001b[0m,  \u001b[1;36m0.10664566\u001b[0m,  \u001b[1;36m0.01840532\u001b[0m,\n",
            "          \u001b[1;36m0.09044898\u001b[0m,  \u001b[1;36m0.05104408\u001b[0m,  \u001b[1;36m0.10706636\u001b[0m,  \u001b[1;36m0.05556653\u001b[0m,  \u001b[1;36m0.07292011\u001b[0m,\n",
            "         \u001b[1;36m-0.03807271\u001b[0m, \u001b[1;36m-0.01649467\u001b[0m,  \u001b[1;36m0.0796512\u001b[0m , \u001b[1;36m-0.07425231\u001b[0m,  \u001b[1;36m0.07705692\u001b[0m,\n",
            "          \u001b[1;36m0.01389163\u001b[0m,  \u001b[1;36m0.08091328\u001b[0m, \u001b[1;36m-0.12761019\u001b[0m, \u001b[1;36m-0.03346262\u001b[0m,  \u001b[1;36m0.17318526\u001b[0m,\n",
            "         \u001b[1;36m-0.06029932\u001b[0m, \u001b[1;36m-0.05346306\u001b[0m, \u001b[1;36m-0.00447424\u001b[0m,  \u001b[1;36m0.00470212\u001b[0m,  \u001b[1;36m0.04192906\u001b[0m,\n",
            "          \u001b[1;36m0.11940668\u001b[0m, \u001b[1;36m-0.09935365\u001b[0m, \u001b[1;36m-0.01329565\u001b[0m, \u001b[1;36m-0.1729048\u001b[0m ,  \u001b[1;36m0.04462851\u001b[0m,\n",
            "          \u001b[1;36m0.09220187\u001b[0m,  \u001b[1;36m0.07078159\u001b[0m, \u001b[1;36m-0.01340959\u001b[0m, \u001b[1;36m-0.17641057\u001b[0m,  \u001b[1;36m0.12648834\u001b[0m,\n",
            "         \u001b[1;36m-0.25872615\u001b[0m, \u001b[1;36m-0.08701333\u001b[0m, \u001b[1;36m-0.0284143\u001b[0m ,  \u001b[1;36m0.00912378\u001b[0m, \u001b[1;36m-0.0214904\u001b[0m ,\n",
            "          \u001b[1;36m0.00760315\u001b[0m, \u001b[1;36m-0.09542719\u001b[0m, \u001b[1;36m-0.05405904\u001b[0m, \u001b[1;36m-0.09185129\u001b[0m, \u001b[1;36m-0.04680209\u001b[0m,\n",
            "          \u001b[1;36m0.16336909\u001b[0m,  \u001b[1;36m0.01093802\u001b[0m,  \u001b[1;36m0.07937074\u001b[0m, \u001b[1;36m-0.24750768\u001b[0m, \u001b[1;36m-0.01891365\u001b[0m,\n",
            "          \u001b[1;36m0.10713647\u001b[0m, \u001b[1;36m-0.03691581\u001b[0m,  \u001b[1;36m0.11807448\u001b[0m\u001b[1m]\u001b[0m\u001b[1m)\u001b[0m\n",
            "\u001b[1m)\u001b[0m\n"
          ]
        },
        {
          "output_type": "display_data",
          "data": {
            "text/plain": [],
            "text/html": [
              "<pre style=\"white-space:pre;overflow-x:auto;line-height:normal;font-family:Menlo,'DejaVu Sans Mono',consolas,'Courier New',monospace\"></pre>\n"
            ]
          },
          "metadata": {}
        },
        {
          "output_type": "stream",
          "name": "stdout",
          "text": [
            "\u001b[1;35mDialogLine\u001b[0m\u001b[1m(\u001b[0m\n",
            "    \u001b[33mid\u001b[0m=\u001b[32m'1ea77ed92858a3d4776999d7c36e3aa6'\u001b[0m,\n",
            "    \u001b[33mtext\u001b[0m=\u001b[32m'No, Lal, this is a flower.'\u001b[0m,\n",
            "    \u001b[33membedding\u001b[0m=\u001b[1;35mNdArray\u001b[0m\u001b[1m(\u001b[0m\u001b[1m[\u001b[0m \u001b[1;36m8.73676017e-02\u001b[0m,  \u001b[1;36m5.02153523e-02\u001b[0m, \u001b[1;36m-1.07479610e-01\u001b[0m,\n",
            "         \u001b[1;36m-8.29377864e-03\u001b[0m,  \u001b[1;36m6.96483403e-02\u001b[0m, \u001b[1;36m-1.26686245e-01\u001b[0m,\n",
            "          \u001b[1;36m5.68439066e-02\u001b[0m, \u001b[1;36m-2.82319891e-03\u001b[0m, \u001b[1;36m-6.57035410e-02\u001b[0m,\n",
            "          \u001b[1;36m1.08902320e-01\u001b[0m,  \u001b[1;36m4.80166115e-02\u001b[0m, \u001b[1;36m-1.52456788e-02\u001b[0m,\n",
            "         \u001b[1;36m-3.77342664e-02\u001b[0m, \u001b[1;36m-1.50937065e-01\u001b[0m, \u001b[1;36m-4.88896407e-02\u001b[0m,\n",
            "          \u001b[1;36m6.52508587e-02\u001b[0m, \u001b[1;36m-8.67855772e-02\u001b[0m, \u001b[1;36m-1.01077393e-01\u001b[0m,\n",
            "         \u001b[1;36m-6.19204119e-02\u001b[0m,  \u001b[1;36m7.58565441e-02\u001b[0m,  \u001b[1;36m4.06766981e-02\u001b[0m,\n",
            "         \u001b[1;36m-4.37161326e-02\u001b[0m,  \u001b[1;36m4.16467302e-02\u001b[0m, \u001b[1;36m-7.16611557e-03\u001b[0m,\n",
            "          \u001b[1;36m1.15692548e-01\u001b[0m, \u001b[1;36m-1.24538041e-04\u001b[0m,  \u001b[1;36m1.01982757e-01\u001b[0m,\n",
            "         \u001b[1;36m-3.02650165e-02\u001b[0m,  \u001b[1;36m8.88549834e-02\u001b[0m, \u001b[1;36m-1.46151576e-02\u001b[0m,\n",
            "          \u001b[1;36m1.51729258e-02\u001b[0m, \u001b[1;36m-9.24117714e-02\u001b[0m, \u001b[1;36m-3.28032672e-02\u001b[0m,\n",
            "         \u001b[1;36m-9.76499468e-02\u001b[0m, \u001b[1;36m-1.08514309e-01\u001b[0m,  \u001b[1;36m7.60505497e-02\u001b[0m,\n",
            "          \u001b[1;36m3.90599780e-02\u001b[0m,  \u001b[1;36m6.47981763e-02\u001b[0m,  \u001b[1;36m1.42998965e-02\u001b[0m,\n",
            "         \u001b[1;36m-6.22114204e-02\u001b[0m, \u001b[1;36m-2.52984494e-01\u001b[0m,  \u001b[1;36m3.26900966e-02\u001b[0m,\n",
            "          \u001b[1;36m6.66089058e-02\u001b[0m, \u001b[1;36m-1.03874318e-02\u001b[0m,  \u001b[1;36m1.34899199e-01\u001b[0m,\n",
            "          \u001b[1;36m1.81072745e-02\u001b[0m, \u001b[1;36m-2.15088546e-01\u001b[0m,  \u001b[1;36m2.05258891e-01\u001b[0m,\n",
            "         \u001b[1;36m-9.61625576e-02\u001b[0m,  \u001b[1;36m6.34724647e-02\u001b[0m, \u001b[1;36m-1.35416552e-01\u001b[0m,\n",
            "          \u001b[1;36m1.19831353e-01\u001b[0m,  \u001b[1;36m1.14075832e-01\u001b[0m,  \u001b[1;36m2.39274696e-01\u001b[0m,\n",
            "         \u001b[1;36m-1.07156262e-01\u001b[0m, \u001b[1;36m-4.86956351e-02\u001b[0m,  \u001b[1;36m5.31496992e-03\u001b[0m,\n",
            "          \u001b[1;36m1.25069529e-01\u001b[0m,  \u001b[1;36m5.12823872e-02\u001b[0m, \u001b[1;36m-2.99901739e-02\u001b[0m,\n",
            "         \u001b[1;36m-9.33171287e-02\u001b[0m,  \u001b[1;36m6.87510567e-03\u001b[0m, \u001b[1;36m-7.50562688e-03\u001b[0m,\n",
            "         \u001b[1;36m-2.71447450e-02\u001b[0m, \u001b[1;36m-1.61672100e-01\u001b[0m, \u001b[1;36m-2.15347223e-02\u001b[0m,\n",
            "         \u001b[1;36m-6.51538521e-02\u001b[0m,  \u001b[1;36m2.13245489e-02\u001b[0m, \u001b[1;36m-5.88890584e-03\u001b[0m,\n",
            "          \u001b[1;36m5.74582629e-02\u001b[0m, \u001b[1;36m-5.30931167e-02\u001b[0m,  \u001b[1;36m3.05883605e-02\u001b[0m,\n",
            "         \u001b[1;36m-1.56369254e-01\u001b[0m,  \u001b[1;36m5.17997406e-02\u001b[0m, \u001b[1;36m-1.23679149e-03\u001b[0m,\n",
            "         \u001b[1;36m-2.27957647e-02\u001b[0m, \u001b[1;36m-3.26739289e-02\u001b[0m,  \u001b[1;36m5.20584136e-02\u001b[0m,\n",
            "          \u001b[1;36m5.18320724e-02\u001b[0m,  \u001b[1;36m1.45585723e-02\u001b[0m, \u001b[1;36m-6.79669455e-02\u001b[0m,\n",
            "         \u001b[1;36m-7.92839974e-02\u001b[0m,  \u001b[1;36m6.53155223e-02\u001b[0m, \u001b[1;36m-3.92863192e-02\u001b[0m,\n",
            "          \u001b[1;36m6.11120500e-02\u001b[0m, \u001b[1;36m-4.42658179e-02\u001b[0m, \u001b[1;36m-2.01896116e-01\u001b[0m,\n",
            "          \u001b[1;36m5.92043214e-02\u001b[0m, \u001b[1;36m-1.24228835e-01\u001b[0m, \u001b[1;36m-4.69172411e-02\u001b[0m,\n",
            "          \u001b[1;36m1.63612161e-02\u001b[0m, \u001b[1;36m-1.02047428e-01\u001b[0m,  \u001b[1;36m9.99941863e-03\u001b[0m,\n",
            "         \u001b[1;36m-1.65148042e-02\u001b[0m, \u001b[1;36m-8.55245348e-03\u001b[0m,  \u001b[1;36m1.26589248e-02\u001b[0m,\n",
            "          \u001b[1;36m1.00479210e-02\u001b[0m, \u001b[1;36m-3.16392295e-02\u001b[0m,  \u001b[1;36m5.62618906e-03\u001b[0m,\n",
            "          \u001b[1;36m1.52101099e-01\u001b[0m,  \u001b[1;36m5.43541573e-02\u001b[0m, \u001b[1;36m-4.01270129e-02\u001b[0m,\n",
            "         \u001b[1;36m-2.24077515e-02\u001b[0m, \u001b[1;36m-4.07090336e-02\u001b[0m,  \u001b[1;36m5.00213467e-02\u001b[0m,\n",
            "          \u001b[1;36m8.91783237e-02\u001b[0m,  \u001b[1;36m8.52981955e-02\u001b[0m,  \u001b[1;36m1.11877091e-01\u001b[0m,\n",
            "         \u001b[1;36m-4.19377424e-02\u001b[0m,  \u001b[1;36m1.20672047e-01\u001b[0m, \u001b[1;36m-1.74993873e-01\u001b[0m,\n",
            "         \u001b[1;36m-9.56452116e-02\u001b[0m,  \u001b[1;36m6.48305118e-02\u001b[0m,  \u001b[1;36m6.52185231e-02\u001b[0m,\n",
            "          \u001b[1;36m2.97314972e-02\u001b[0m, \u001b[1;36m-7.48218447e-02\u001b[0m, \u001b[1;36m-1.40493046e-02\u001b[0m,\n",
            "          \u001b[1;36m7.71499202e-02\u001b[0m,  \u001b[1;36m2.98770033e-02\u001b[0m, \u001b[1;36m-1.07802950e-01\u001b[0m,\n",
            "          \u001b[1;36m8.43928307e-02\u001b[0m, \u001b[1;36m-1.60540398e-02\u001b[0m, \u001b[1;36m-4.36191298e-02\u001b[0m,\n",
            "         \u001b[1;36m-2.84025520e-01\u001b[0m, \u001b[1;36m-1.44987538e-01\u001b[0m,  \u001b[1;36m1.77839305e-02\u001b[0m,\n",
            "          \u001b[1;36m1.23970158e-01\u001b[0m,  \u001b[1;36m1.04828186e-01\u001b[0m\u001b[1m]\u001b[0m\u001b[1m)\u001b[0m\n",
            "\u001b[1m)\u001b[0m\n"
          ]
        },
        {
          "output_type": "display_data",
          "data": {
            "text/plain": [],
            "text/html": [
              "<pre style=\"white-space:pre;overflow-x:auto;line-height:normal;font-family:Menlo,'DejaVu Sans Mono',consolas,'Courier New',monospace\"></pre>\n"
            ]
          },
          "metadata": {}
        },
        {
          "output_type": "stream",
          "name": "stdout",
          "text": [
            "\u001b[1;35mDialogLine\u001b[0m\u001b[1m(\u001b[0m\n",
            "    \u001b[33mid\u001b[0m=\u001b[32m'e46791af0c289ad44a20828d8278bab5'\u001b[0m,\n",
            "    \u001b[33mtext\u001b[0m=\u001b[32m'Lal, you used a verbal contraction.'\u001b[0m,\n",
            "    \u001b[33membedding\u001b[0m=\u001b[1;35mNdArray\u001b[0m\u001b[1m(\u001b[0m\u001b[1m[\u001b[0m \u001b[1;36m0.0358678\u001b[0m ,  \u001b[1;36m0.08621472\u001b[0m, \u001b[1;36m-0.07590196\u001b[0m,  \u001b[1;36m0.01768639\u001b[0m,  \u001b[1;36m0.02871074\u001b[0m,\n",
            "          \u001b[1;36m0.01402536\u001b[0m, \u001b[1;36m-0.0395804\u001b[0m ,  \u001b[1;36m0.00661564\u001b[0m, \u001b[1;36m-0.03475402\u001b[0m,  \u001b[1;36m0.07004431\u001b[0m,\n",
            "         \u001b[1;36m-0.06439291\u001b[0m, \u001b[1;36m-0.05655521\u001b[0m,  \u001b[1;36m0.02586442\u001b[0m, \u001b[1;36m-0.04137482\u001b[0m,  \u001b[1;36m0.0754482\u001b[0m ,\n",
            "         \u001b[1;36m-0.0563902\u001b[0m ,  \u001b[1;36m0.00247764\u001b[0m, \u001b[1;36m-0.05102757\u001b[0m, \u001b[1;36m-0.22572583\u001b[0m,  \u001b[1;36m0.09727001\u001b[0m,\n",
            "          \u001b[1;36m0.06682672\u001b[0m,  \u001b[1;36m0.06558919\u001b[0m, \u001b[1;36m-0.01698513\u001b[0m,  \u001b[1;36m0.00883804\u001b[0m,  \u001b[1;36m0.11929808\u001b[0m,\n",
            "          \u001b[1;36m0.02840136\u001b[0m,  \u001b[1;36m0.08386341\u001b[0m,  \u001b[1;36m0.05028505\u001b[0m, \u001b[1;36m-0.05927778\u001b[0m,  \u001b[1;36m0.06695048\u001b[0m,\n",
            "          \u001b[1;36m0.00492177\u001b[0m, \u001b[1;36m-0.09116485\u001b[0m, \u001b[1;36m-0.05969029\u001b[0m, \u001b[1;36m-0.16335422\u001b[0m, \u001b[1;36m-0.07491193\u001b[0m,\n",
            "          \u001b[1;36m0.16261169\u001b[0m, \u001b[1;36m-0.02239933\u001b[0m,  \u001b[1;36m0.01270533\u001b[0m, \u001b[1;36m-0.02180119\u001b[0m, \u001b[1;36m-0.11261541\u001b[0m,\n",
            "         \u001b[1;36m-0.11550298\u001b[0m, \u001b[1;36m-0.3021228\u001b[0m ,  \u001b[1;36m0.05135757\u001b[0m,  \u001b[1;36m0.01256095\u001b[0m,  \u001b[1;36m0.04059105\u001b[0m,\n",
            "          \u001b[1;36m0.01634573\u001b[0m, \u001b[1;36m-0.08976232\u001b[0m,  \u001b[1;36m0.03225833\u001b[0m,  \u001b[1;36m0.06447541\u001b[0m, \u001b[1;36m-0.0174492\u001b[0m ,\n",
            "         \u001b[1;36m-0.10807779\u001b[0m, \u001b[1;36m-0.00790989\u001b[0m,  \u001b[1;36m0.08844228\u001b[0m,  \u001b[1;36m0.1899199\u001b[0m , \u001b[1;36m-0.04430364\u001b[0m,\n",
            "         \u001b[1;36m-0.08118209\u001b[0m,  \u001b[1;36m0.01904768\u001b[0m,  \u001b[1;36m0.17193444\u001b[0m,  \u001b[1;36m0.03929164\u001b[0m, \u001b[1;36m-0.15155642\u001b[0m,\n",
            "         \u001b[1;36m-0.11500797\u001b[0m, \u001b[1;36m-0.06913678\u001b[0m,  \u001b[1;36m0.08163586\u001b[0m, \u001b[1;36m-0.01197312\u001b[0m, \u001b[1;36m-0.16500425\u001b[0m,\n",
            "         \u001b[1;36m-0.17143942\u001b[0m, \u001b[1;36m-0.00572874\u001b[0m,  \u001b[1;36m0.06047406\u001b[0m,  \u001b[1;36m0.02086273\u001b[0m,  \u001b[1;36m0.14941135\u001b[0m,\n",
            "         \u001b[1;36m-0.00628047\u001b[0m,  \u001b[1;36m0.0252869\u001b[0m , \u001b[1;36m-0.15922911\u001b[0m,  \u001b[1;36m0.12936334\u001b[0m, \u001b[1;36m-0.03636281\u001b[0m,\n",
            "         \u001b[1;36m-0.03652782\u001b[0m, \u001b[1;36m-0.10395268\u001b[0m,  \u001b[1;36m0.03863162\u001b[0m,  \u001b[1;36m0.06480542\u001b[0m,  \u001b[1;36m0.06530043\u001b[0m,\n",
            "          \u001b[1;36m0.09009232\u001b[0m,  \u001b[1;36m0.00345735\u001b[0m, \u001b[1;36m-0.06290787\u001b[0m,  \u001b[1;36m0.01756264\u001b[0m, \u001b[1;36m-0.01007042\u001b[0m,\n",
            "          \u001b[1;36m0.02522503\u001b[0m, \u001b[1;36m-0.16846934\u001b[0m,  \u001b[1;36m0.05878277\u001b[0m,  \u001b[1;36m0.02831886\u001b[0m, \u001b[1;36m-0.08670974\u001b[0m,\n",
            "          \u001b[1;36m0.07862453\u001b[0m,  \u001b[1;36m0.11723553\u001b[0m, \u001b[1;36m-0.02984514\u001b[0m, \u001b[1;36m-0.07953205\u001b[0m,  \u001b[1;36m0.02448251\u001b[0m,\n",
            "          \u001b[1;36m0.02547253\u001b[0m, \u001b[1;36m-0.11368793\u001b[0m, \u001b[1;36m-0.0375591\u001b[0m , \u001b[1;36m-0.02487439\u001b[0m,  \u001b[1;36m0.1431412\u001b[0m ,\n",
            "          \u001b[1;36m0.13431346\u001b[0m,  \u001b[1;36m0.02446188\u001b[0m,  \u001b[1;36m0.01837735\u001b[0m, \u001b[1;36m-0.13794357\u001b[0m,  \u001b[1;36m0.00717253\u001b[0m,\n",
            "          \u001b[1;36m0.04764498\u001b[0m, \u001b[1;36m-0.05102757\u001b[0m, \u001b[1;36m-0.01843923\u001b[0m, \u001b[1;36m-0.09594998\u001b[0m,  \u001b[1;36m0.04595369\u001b[0m,\n",
            "         \u001b[1;36m-0.09528996\u001b[0m, \u001b[1;36m-0.1007351\u001b[0m , \u001b[1;36m-0.05540018\u001b[0m,  \u001b[1;36m0.00685799\u001b[0m,  \u001b[1;36m0.13687102\u001b[0m,\n",
            "         \u001b[1;36m-0.00995698\u001b[0m,  \u001b[1;36m0.03438276\u001b[0m, \u001b[1;36m-0.06047406\u001b[0m, \u001b[1;36m-0.03291835\u001b[0m, \u001b[1;36m-0.17077941\u001b[0m,\n",
            "          \u001b[1;36m0.03922976\u001b[0m, \u001b[1;36m-0.06154659\u001b[0m,  \u001b[1;36m0.10981033\u001b[0m, \u001b[1;36m-0.23166598\u001b[0m, \u001b[1;36m-0.07421067\u001b[0m,\n",
            "         \u001b[1;36m-0.06121658\u001b[0m,  \u001b[1;36m0.0016075\u001b[0m ,  \u001b[1;36m0.15741406\u001b[0m\u001b[1m]\u001b[0m\u001b[1m)\u001b[0m\n",
            "\u001b[1m)\u001b[0m\n"
          ]
        },
        {
          "output_type": "display_data",
          "data": {
            "text/plain": [],
            "text/html": [
              "<pre style=\"white-space:pre;overflow-x:auto;line-height:normal;font-family:Menlo,'DejaVu Sans Mono',consolas,'Courier New',monospace\"></pre>\n"
            ]
          },
          "metadata": {}
        },
        {
          "output_type": "stream",
          "name": "stdout",
          "text": [
            "\u001b[1;35mDialogLine\u001b[0m\u001b[1m(\u001b[0m\n",
            "    \u001b[33mid\u001b[0m=\u001b[32m'dd0f64b1e3c2f07a3beb1491a6267dc1'\u001b[0m,\n",
            "    \u001b[33mtext\u001b[0m=\u001b[32m'Yes, Wesley. Lal is my child.'\u001b[0m,\n",
            "    \u001b[33membedding\u001b[0m=\u001b[1;35mNdArray\u001b[0m\u001b[1m(\u001b[0m\u001b[1m[\u001b[0m \u001b[1;36m0.05771691\u001b[0m, \u001b[1;36m-0.01473023\u001b[0m, \u001b[1;36m-0.07976522\u001b[0m,  \u001b[1;36m0.03875386\u001b[0m, \u001b[1;36m-0.02054331\u001b[0m,\n",
            "         \u001b[1;36m-0.04025886\u001b[0m,  \u001b[1;36m0.10068478\u001b[0m,  \u001b[1;36m0.08872\u001b[0m   , \u001b[1;36m-0.08608624\u001b[0m, \u001b[1;36m-0.02249981\u001b[0m,\n",
            "         \u001b[1;36m-0.03367447\u001b[0m, \u001b[1;36m-0.09857778\u001b[0m,  \u001b[1;36m0.00245974\u001b[0m, \u001b[1;36m-0.0702837\u001b[0m , \u001b[1;36m-0.1230341\u001b[0m ,\n",
            "          \u001b[1;36m0.02359094\u001b[0m, \u001b[1;36m-0.01489954\u001b[0m, \u001b[1;36m-0.00786365\u001b[0m, \u001b[1;36m-0.11814284\u001b[0m,  \u001b[1;36m0.02404244\u001b[0m,\n",
            "          \u001b[1;36m0.05256227\u001b[0m,  \u001b[1;36m0.09157951\u001b[0m,  \u001b[1;36m0.07005795\u001b[0m,  \u001b[1;36m0.04789676\u001b[0m,  \u001b[1;36m0.02581082\u001b[0m,\n",
            "         \u001b[1;36m-0.07009558\u001b[0m,  \u001b[1;36m0.11723983\u001b[0m, \u001b[1;36m-0.15682144\u001b[0m, \u001b[1;36m-0.01713824\u001b[0m, \u001b[1;36m-0.01328166\u001b[0m,\n",
            "          \u001b[1;36m0.09458952\u001b[0m, \u001b[1;36m-0.11791708\u001b[0m, \u001b[1;36m-0.12724811\u001b[0m,  \u001b[1;36m0.01001768\u001b[0m, \u001b[1;36m-0.06384981\u001b[0m,\n",
            "          \u001b[1;36m0.09496577\u001b[0m, \u001b[1;36m-0.00955678\u001b[0m,  \u001b[1;36m0.05034239\u001b[0m,  \u001b[1;36m0.0109395\u001b[0m , \u001b[1;36m-0.06012492\u001b[0m,\n",
            "         \u001b[1;36m-0.12732336\u001b[0m, \u001b[1;36m-0.045564\u001b[0m  ,  \u001b[1;36m0.00170489\u001b[0m,  \u001b[1;36m0.02439988\u001b[0m,  \u001b[1;36m0.12348559\u001b[0m,\n",
            "          \u001b[1;36m0.09300926\u001b[0m, \u001b[1;36m-0.10617805\u001b[0m,  \u001b[1;36m0.15922944\u001b[0m,  \u001b[1;36m0.00541802\u001b[0m, \u001b[1;36m-0.0519979\u001b[0m ,\n",
            "         \u001b[1;36m-0.0070406\u001b[0m ,  \u001b[1;36m0.09684702\u001b[0m,  \u001b[1;36m0.04943939\u001b[0m,  \u001b[1;36m0.26804125\u001b[0m, \u001b[1;36m-0.08330198\u001b[0m,\n",
            "         \u001b[1;36m-0.08367824\u001b[0m,  \u001b[1;36m0.01492776\u001b[0m,  \u001b[1;36m0.15193018\u001b[0m,  \u001b[1;36m0.06125367\u001b[0m, \u001b[1;36m-0.10136203\u001b[0m,\n",
            "         \u001b[1;36m-0.02218\u001b[0m   ,  \u001b[1;36m0.0173828\u001b[0m ,  \u001b[1;36m0.09564302\u001b[0m,  \u001b[1;36m0.00440684\u001b[0m, \u001b[1;36m-0.07333133\u001b[0m,\n",
            "         \u001b[1;36m-0.0617428\u001b[0m , \u001b[1;36m-0.0612913\u001b[0m , \u001b[1;36m-0.0448115\u001b[0m , \u001b[1;36m-0.02801189\u001b[0m,  \u001b[1;36m0.04763338\u001b[0m,\n",
            "          \u001b[1;36m0.07446008\u001b[0m,  \u001b[1;36m0.11137032\u001b[0m, \u001b[1;36m-0.08525849\u001b[0m,  \u001b[1;36m0.08450599\u001b[0m,  \u001b[1;36m0.03164271\u001b[0m,\n",
            "         \u001b[1;36m-0.00571902\u001b[0m, \u001b[1;36m-0.08127023\u001b[0m, \u001b[1;36m-0.09963128\u001b[0m,  \u001b[1;36m0.01713824\u001b[0m,  \u001b[1;36m0.03006246\u001b[0m,\n",
            "         \u001b[1;36m-0.03741817\u001b[0m, \u001b[1;36m-0.04078561\u001b[0m,  \u001b[1;36m0.01310294\u001b[0m, \u001b[1;36m-0.04928889\u001b[0m,  \u001b[1;36m0.07577696\u001b[0m,\n",
            "         \u001b[1;36m-0.06298443\u001b[0m, \u001b[1;36m-0.04560163\u001b[0m,  \u001b[1;36m0.01477726\u001b[0m,  \u001b[1;36m0.07780872\u001b[0m,  \u001b[1;36m0.03634585\u001b[0m,\n",
            "          \u001b[1;36m0.03311009\u001b[0m,  \u001b[1;36m0.02123937\u001b[0m, \u001b[1;36m-0.10708106\u001b[0m, \u001b[1;36m-0.09188051\u001b[0m,  \u001b[1;36m0.05809316\u001b[0m,\n",
            "          \u001b[1;36m0.07664234\u001b[0m,  \u001b[1;36m0.01077959\u001b[0m,  \u001b[1;36m0.0608398\u001b[0m ,  \u001b[1;36m0.00080424\u001b[0m,  \u001b[1;36m0.03040109\u001b[0m,\n",
            "          \u001b[1;36m0.07923847\u001b[0m, \u001b[1;36m-0.18571752\u001b[0m, \u001b[1;36m-0.00665024\u001b[0m, \u001b[1;36m-0.09677178\u001b[0m, \u001b[1;36m-0.07205208\u001b[0m,\n",
            "          \u001b[1;36m0.11678833\u001b[0m,  \u001b[1;36m0.15847695\u001b[0m,  \u001b[1;36m0.09639552\u001b[0m, \u001b[1;36m-0.08149598\u001b[0m,  \u001b[1;36m0.07291745\u001b[0m,\n",
            "         \u001b[1;36m-0.36541504\u001b[0m, \u001b[1;36m-0.03950636\u001b[0m, \u001b[1;36m-0.12815112\u001b[0m,  \u001b[1;36m0.04970276\u001b[0m,  \u001b[1;36m0.13131163\u001b[0m,\n",
            "         \u001b[1;36m-0.10136203\u001b[0m, \u001b[1;36m-0.07178871\u001b[0m,  \u001b[1;36m0.00468433\u001b[0m, \u001b[1;36m-0.0711867\u001b[0m , \u001b[1;36m-0.09601927\u001b[0m,\n",
            "          \u001b[1;36m0.15968095\u001b[0m,  \u001b[1;36m0.04319362\u001b[0m,  \u001b[1;36m0.05730304\u001b[0m, \u001b[1;36m-0.22544964\u001b[0m, \u001b[1;36m-0.04955227\u001b[0m,\n",
            "          \u001b[1;36m0.0527504\u001b[0m , \u001b[1;36m-0.10324329\u001b[0m,  \u001b[1;36m0.15012418\u001b[0m\u001b[1m]\u001b[0m\u001b[1m)\u001b[0m\n",
            "\u001b[1m)\u001b[0m\n"
          ]
        },
        {
          "output_type": "display_data",
          "data": {
            "text/plain": [],
            "text/html": [
              "<pre style=\"white-space:pre;overflow-x:auto;line-height:normal;font-family:Menlo,'DejaVu Sans Mono',consolas,'Courier New',monospace\"></pre>\n"
            ]
          },
          "metadata": {}
        },
        {
          "output_type": "stream",
          "name": "stdout",
          "text": [
            "\u001b[1;35mDialogLine\u001b[0m\u001b[1m(\u001b[0m\n",
            "    \u001b[33mid\u001b[0m=\u001b[32m'687adf5ed86e5a4a901b31c36dbb2f29'\u001b[0m,\n",
            "    \u001b[33mtext\u001b[0m=\u001b[32m\"Lal\u001b[0m\u001b[32m's creation is entirely dependent on me. I am giving it knowledge and skills that are stored in my \u001b[0m\n",
            "\u001b[32mbrain... its programming reflects mine in the same way a human child's genes reflect its parent's genes...\"\u001b[0m,\n",
            "    \u001b[33membedding\u001b[0m=\u001b[1;35mNdArray\u001b[0m\u001b[1m(\u001b[0m\u001b[1m[\u001b[0m \u001b[1;36m1.24981903e-01\u001b[0m,  \u001b[1;36m1.18340179e-02\u001b[0m,  \u001b[1;36m7.97741190e-02\u001b[0m,\n",
            "          \u001b[1;36m3.18509378e-02\u001b[0m,  \u001b[1;36m1.95508972e-01\u001b[0m, \u001b[1;36m-1.42448545e-01\u001b[0m,\n",
            "          \u001b[1;36m1.15221135e-01\u001b[0m,  \u001b[1;36m5.80875948e-02\u001b[0m, \u001b[1;36m-1.33128107e-01\u001b[0m,\n",
            "          \u001b[1;36m2.05306448e-02\u001b[0m,  \u001b[1;36m7.29856119e-02\u001b[0m, \u001b[1;36m-8.95348936e-02\u001b[0m,\n",
            "          \u001b[1;36m1.27399166e-03\u001b[0m, \u001b[1;36m-1.91399187e-01\u001b[0m, \u001b[1;36m-4.14649285e-02\u001b[0m,\n",
            "         \u001b[1;36m-6.45458475e-02\u001b[0m, \u001b[1;36m-1.69569321e-04\u001b[0m, \u001b[1;36m-1.83766693e-01\u001b[0m,\n",
            "          \u001b[1;36m9.71490238e-03\u001b[0m,  \u001b[1;36m6.91235065e-03\u001b[0m,  \u001b[1;36m1.19037375e-01\u001b[0m,\n",
            "         \u001b[1;36m-2.85484213e-02\u001b[0m,  \u001b[1;36m7.00500458e-02\u001b[0m,  \u001b[1;36m3.03648040e-02\u001b[0m,\n",
            "          \u001b[1;36m9.88553315e-02\u001b[0m, \u001b[1;36m-1.26596466e-01\u001b[0m,  \u001b[1;36m1.09863713e-01\u001b[0m,\n",
            "         \u001b[1;36m-1.95398889e-02\u001b[0m, \u001b[1;36m-8.36637542e-02\u001b[0m,  \u001b[1;36m5.59226125e-02\u001b[0m,\n",
            "          \u001b[1;36m8.27096924e-02\u001b[0m, \u001b[1;36m-7.53707662e-02\u001b[0m, \u001b[1;36m-6.83254004e-02\u001b[0m,\n",
            "         \u001b[1;36m-1.98265654e-03\u001b[0m, \u001b[1;36m-5.89682683e-02\u001b[0m,  \u001b[1;36m1.72905087e-01\u001b[0m,\n",
            "          \u001b[1;36m4.52811718e-02\u001b[0m, \u001b[1;36m-6.53164387e-02\u001b[0m, \u001b[1;36m-1.37329642e-02\u001b[0m,\n",
            "          \u001b[1;36m6.94629326e-02\u001b[0m, \u001b[1;36m-1.77601993e-01\u001b[0m, \u001b[1;36m-1.81418240e-01\u001b[0m,\n",
            "          \u001b[1;36m1.82464030e-02\u001b[0m,  \u001b[1;36m8.63791555e-02\u001b[0m,  \u001b[1;36m1.25128683e-02\u001b[0m,\n",
            "          \u001b[1;36m6.96464032e-02\u001b[0m, \u001b[1;36m-1.82298914e-01\u001b[0m,  \u001b[1;36m4.41803336e-02\u001b[0m,\n",
            "         \u001b[1;36m-2.83832941e-02\u001b[0m,  \u001b[1;36m1.15000963e-01\u001b[0m, \u001b[1;36m-9.68738198e-02\u001b[0m,\n",
            "          \u001b[1;36m6.38486519e-02\u001b[0m,  \u001b[1;36m2.05673389e-02\u001b[0m,  \u001b[1;36m1.16909087e-01\u001b[0m,\n",
            "         \u001b[1;36m-1.81418240e-01\u001b[0m,  \u001b[1;36m3.66946273e-02\u001b[0m, \u001b[1;36m-4.99413908e-02\u001b[0m,\n",
            "          \u001b[1;36m1.20725326e-01\u001b[0m, \u001b[1;36m-2.01820448e-01\u001b[0m,  \u001b[1;36m1.79528464e-02\u001b[0m,\n",
            "         \u001b[1;36m-2.75760125e-02\u001b[0m,  \u001b[1;36m7.26186708e-02\u001b[0m,  \u001b[1;36m1.06781371e-01\u001b[0m,\n",
            "         \u001b[1;36m-5.58675732e-03\u001b[0m, \u001b[1;36m-1.35036230e-01\u001b[0m, \u001b[1;36m-6.34817034e-02\u001b[0m,\n",
            "         \u001b[1;36m-1.37384683e-01\u001b[0m, \u001b[1;36m-2.45670527e-02\u001b[0m,  \u001b[1;36m7.55106623e-04\u001b[0m,\n",
            "          \u001b[1;36m1.75102183e-03\u001b[0m,  \u001b[1;36m5.23632355e-02\u001b[0m,  \u001b[1;36m3.36489752e-02\u001b[0m,\n",
            "         \u001b[1;36m-5.98489381e-02\u001b[0m, \u001b[1;36m-3.52727110e-03\u001b[0m, \u001b[1;36m-9.45253596e-02\u001b[0m,\n",
            "         \u001b[1;36m-1.27770692e-01\u001b[0m, \u001b[1;36m-3.74835618e-02\u001b[0m,  \u001b[1;36m4.91708005e-03\u001b[0m,\n",
            "          \u001b[1;36m8.57920423e-02\u001b[0m, \u001b[1;36m-1.60814207e-02\u001b[0m,  \u001b[1;36m1.82739254e-02\u001b[0m,\n",
            "         \u001b[1;36m-3.61258611e-02\u001b[0m,  \u001b[1;36m8.67461041e-02\u001b[0m, \u001b[1;36m-1.30706266e-01\u001b[0m,\n",
            "         \u001b[1;36m-5.35374619e-02\u001b[0m,  \u001b[1;36m4.43638042e-02\u001b[0m, \u001b[1;36m-4.72259857e-02\u001b[0m,\n",
            "          \u001b[1;36m7.03619514e-03\u001b[0m, \u001b[1;36m-9.45987478e-02\u001b[0m, \u001b[1;36m-4.76296283e-02\u001b[0m,\n",
            "         \u001b[1;36m-1.07515261e-01\u001b[0m,  \u001b[1;36m4.27859351e-02\u001b[0m, \u001b[1;36m-1.19330928e-01\u001b[0m,\n",
            "          \u001b[1;36m6.49494901e-02\u001b[0m,  \u001b[1;36m1.59695014e-01\u001b[0m,  \u001b[1;36m8.34435821e-02\u001b[0m,\n",
            "         \u001b[1;36m-1.79987159e-02\u001b[0m,  \u001b[1;36m4.28226292e-02\u001b[0m, \u001b[1;36m-2.09159385e-02\u001b[0m,\n",
            "          \u001b[1;36m1.07955597e-01\u001b[0m,  \u001b[1;36m6.22707829e-02\u001b[0m, \u001b[1;36m-2.66724080e-03\u001b[0m,\n",
            "         \u001b[1;36m-2.46037487e-02\u001b[0m, \u001b[1;36m-1.32907942e-01\u001b[0m,  \u001b[1;36m4.18685712e-02\u001b[0m,\n",
            "          \u001b[1;36m9.52592567e-02\u001b[0m, \u001b[1;36m-1.24027841e-02\u001b[0m, \u001b[1;36m-1.09567866e-03\u001b[0m,\n",
            "         \u001b[1;36m-1.34375721e-01\u001b[0m,  \u001b[1;36m1.89160816e-02\u001b[0m, \u001b[1;36m-2.37781197e-01\u001b[0m,\n",
            "         \u001b[1;36m-5.04551120e-02\u001b[0m,  \u001b[1;36m1.11625060e-01\u001b[0m, \u001b[1;36m-7.38662854e-02\u001b[0m,\n",
            "          \u001b[1;36m5.66198118e-02\u001b[0m, \u001b[1;36m-8.30766410e-02\u001b[0m,  \u001b[1;36m8.80671106e-03\u001b[0m,\n",
            "          \u001b[1;36m5.10789230e-02\u001b[0m,  \u001b[1;36m3.01446375e-02\u001b[0m, \u001b[1;36m-1.62832410e-04\u001b[0m,\n",
            "          \u001b[1;36m3.34288068e-02\u001b[0m, \u001b[1;36m-8.63791555e-02\u001b[0m,  \u001b[1;36m1.53383547e-02\u001b[0m,\n",
            "         \u001b[1;36m-6.75181150e-02\u001b[0m,  \u001b[1;36m3.44012156e-02\u001b[0m, \u001b[1;36m-1.24835126e-01\u001b[0m,\n",
            "          \u001b[1;36m1.38412133e-01\u001b[0m,  \u001b[1;36m2.43101902e-02\u001b[0m\u001b[1m]\u001b[0m\u001b[1m)\u001b[0m\n",
            "\u001b[1m)\u001b[0m\n"
          ]
        },
        {
          "output_type": "display_data",
          "data": {
            "text/plain": [],
            "text/html": [
              "<pre style=\"white-space:pre;overflow-x:auto;line-height:normal;font-family:Menlo,'DejaVu Sans Mono',consolas,'Courier New',monospace\"></pre>\n"
            ]
          },
          "metadata": {}
        },
        {
          "output_type": "stream",
          "name": "stdout",
          "text": [
            "\u001b[1;35mDialogLine\u001b[0m\u001b[1m(\u001b[0m\n",
            "    \u001b[33mid\u001b[0m=\u001b[32m'78abb43ab25d3bd6335dd31e573437a9'\u001b[0m,\n",
            "    \u001b[33mtext\u001b[0m=\u001b[32m'Perhaps. I created Lal because I wished to procreate. Despite what happened to her, I still have that \u001b[0m\n",
            "\u001b[32mwish.'\u001b[0m,\n",
            "    \u001b[33membedding\u001b[0m=\u001b[1;35mNdArray\u001b[0m\u001b[1m(\u001b[0m\u001b[1m[\u001b[0m \u001b[1;36m0.10521609\u001b[0m,  \u001b[1;36m0.02256318\u001b[0m,  \u001b[1;36m0.06509064\u001b[0m,  \u001b[1;36m0.15049995\u001b[0m,  \u001b[1;36m0.03490796\u001b[0m,\n",
            "         \u001b[1;36m-0.10773624\u001b[0m,  \u001b[1;36m0.07442306\u001b[0m,  \u001b[1;36m0.09182782\u001b[0m, \u001b[1;36m-0.10931133\u001b[0m, \u001b[1;36m-0.0984432\u001b[0m ,\n",
            "         \u001b[1;36m-0.02850915\u001b[0m,  \u001b[1;36m0.04292123\u001b[0m,  \u001b[1;36m0.02053525\u001b[0m, \u001b[1;36m-0.14514466\u001b[0m, \u001b[1;36m-0.04532325\u001b[0m,\n",
            "         \u001b[1;36m-0.04678021\u001b[0m,  \u001b[1;36m0.02205128\u001b[0m, \u001b[1;36m-0.1226996\u001b[0m , \u001b[1;36m-0.08765382\u001b[0m,  \u001b[1;36m0.00161324\u001b[0m,\n",
            "          \u001b[1;36m0.07883331\u001b[0m, \u001b[1;36m-0.02955265\u001b[0m,  \u001b[1;36m0.00542422\u001b[0m, \u001b[1;36m-0.14545967\u001b[0m,  \u001b[1;36m0.04118863\u001b[0m,\n",
            "         \u001b[1;36m-0.02657966\u001b[0m,  \u001b[1;36m0.18979849\u001b[0m, \u001b[1;36m-0.07229669\u001b[0m, \u001b[1;36m-0.1493974\u001b[0m ,  \u001b[1;36m0.00789022\u001b[0m,\n",
            "          \u001b[1;36m0.10222342\u001b[0m, \u001b[1;36m-0.10293221\u001b[0m, \u001b[1;36m-0.13782048\u001b[0m, \u001b[1;36m-0.08064467\u001b[0m, \u001b[1;36m-0.15845416\u001b[0m,\n",
            "          \u001b[1;36m0.00961298\u001b[0m,  \u001b[1;36m0.08804759\u001b[0m, \u001b[1;36m-0.06934339\u001b[0m, \u001b[1;36m-0.00457515\u001b[0m, \u001b[1;36m-0.07698258\u001b[0m,\n",
            "         \u001b[1;36m-0.13207139\u001b[0m, \u001b[1;36m-0.18349811\u001b[0m,  \u001b[1;36m0.16995233\u001b[0m,  \u001b[1;36m0.03179715\u001b[0m, \u001b[1;36m-0.03236812\u001b[0m,\n",
            "          \u001b[1;36m0.14829484\u001b[0m, \u001b[1;36m-0.08363734\u001b[0m,  \u001b[1;36m0.17546515\u001b[0m, \u001b[1;36m-0.00573924\u001b[0m,  \u001b[1;36m0.03876693\u001b[0m,\n",
            "         \u001b[1;36m-0.07493496\u001b[0m,  \u001b[1;36m0.01763118\u001b[0m,  \u001b[1;36m0.03792032\u001b[0m,  \u001b[1;36m0.19641387\u001b[0m, \u001b[1;36m-0.11521792\u001b[0m,\n",
            "         \u001b[1;36m-0.09978203\u001b[0m, \u001b[1;36m-0.08710254\u001b[0m,  \u001b[1;36m0.05371061\u001b[0m, \u001b[1;36m-0.01870421\u001b[0m,  \u001b[1;36m0.10482232\u001b[0m,\n",
            "         \u001b[1;36m-0.00869746\u001b[0m,  \u001b[1;36m0.07560438\u001b[0m,  \u001b[1;36m0.14443585\u001b[0m,  \u001b[1;36m0.00320925\u001b[0m, \u001b[1;36m-0.05367123\u001b[0m,\n",
            "          \u001b[1;36m0.04418131\u001b[0m, \u001b[1;36m-0.05197801\u001b[0m,  \u001b[1;36m0.04678021\u001b[0m, \u001b[1;36m-0.13537909\u001b[0m,  \u001b[1;36m0.14120692\u001b[0m,\n",
            "          \u001b[1;36m0.02088965\u001b[0m,  \u001b[1;36m0.0308521\u001b[0m , \u001b[1;36m-0.16491205\u001b[0m,  \u001b[1;36m0.0613498\u001b[0m , \u001b[1;36m-0.07328112\u001b[0m,\n",
            "         \u001b[1;36m-0.11765931\u001b[0m, \u001b[1;36m-0.06721701\u001b[0m,  \u001b[1;36m0.03986949\u001b[0m,  \u001b[1;36m0.04288186\u001b[0m, \u001b[1;36m-0.02398076\u001b[0m,\n",
            "         \u001b[1;36m-0.0365618\u001b[0m ,  \u001b[1;36m0.06788643\u001b[0m,  \u001b[1;36m0.07812452\u001b[0m,  \u001b[1;36m0.10096335\u001b[0m,  \u001b[1;36m0.07135163\u001b[0m,\n",
            "         \u001b[1;36m-0.02941483\u001b[0m, \u001b[1;36m-0.03286034\u001b[0m,  \u001b[1;36m0.07966024\u001b[0m, \u001b[1;36m-0.03400228\u001b[0m, \u001b[1;36m-0.022701\u001b[0m  ,\n",
            "         \u001b[1;36m-0.06355493\u001b[0m,  \u001b[1;36m0.07851829\u001b[0m, \u001b[1;36m-0.09474173\u001b[0m, \u001b[1;36m-0.05233241\u001b[0m,  \u001b[1;36m0.13057506\u001b[0m,\n",
            "         \u001b[1;36m-0.02882417\u001b[0m, \u001b[1;36m-0.06225548\u001b[0m, \u001b[1;36m-0.02510302\u001b[0m, \u001b[1;36m-0.06631134\u001b[0m,  \u001b[1;36m0.08206225\u001b[0m,\n",
            "          \u001b[1;36m0.0018778\u001b[0m , \u001b[1;36m-0.10096335\u001b[0m, \u001b[1;36m-0.04181867\u001b[0m, \u001b[1;36m-0.13474905\u001b[0m, \u001b[1;36m-0.06457873\u001b[0m,\n",
            "          \u001b[1;36m0.07812452\u001b[0m, \u001b[1;36m-0.02295695\u001b[0m, \u001b[1;36m-0.01331936\u001b[0m, \u001b[1;36m-0.03504578\u001b[0m,  \u001b[1;36m0.09269412\u001b[0m,\n",
            "         \u001b[1;36m-0.22177283\u001b[0m, \u001b[1;36m-0.18712083\u001b[0m, \u001b[1;36m-0.02317353\u001b[0m, \u001b[1;36m-0.04162179\u001b[0m, \u001b[1;36m-0.04591391\u001b[0m,\n",
            "         \u001b[1;36m-0.12750363\u001b[0m, \u001b[1;36m-0.05414376\u001b[0m,  \u001b[1;36m0.12514099\u001b[0m, \u001b[1;36m-0.0609954\u001b[0m , \u001b[1;36m-0.01271886\u001b[0m,\n",
            "          \u001b[1;36m0.06658698\u001b[0m, \u001b[1;36m-0.04618955\u001b[0m, \u001b[1;36m-0.02098809\u001b[0m, \u001b[1;36m-0.10868129\u001b[0m, \u001b[1;36m-0.00312311\u001b[0m,\n",
            "         \u001b[1;36m-0.05753021\u001b[0m,  \u001b[1;36m0.11600547\u001b[0m, \u001b[1;36m-0.03601052\u001b[0m\u001b[1m]\u001b[0m\u001b[1m)\u001b[0m\n",
            "\u001b[1m)\u001b[0m\n"
          ]
        }
      ],
      "source": [
        "# Perform a search query\n",
        "queryText = 'Lal, my daughter'\n",
        "response = client.embeddings.create(\n",
        "    input=queryText,\n",
        "    dimensions=embedding_dimensions,\n",
        "    model=embedding_model\n",
        ")\n",
        "query = DialogLine(text=queryText, embedding=response.data[0].embedding)\n",
        "results = db.search(inputs=DocList[DialogLine]([query]), limit=10)\n",
        "\n",
        "# Print out the matches\n",
        "for m in results[0].matches:\n",
        "  print(m)"
      ]
    },
    {
      "cell_type": "markdown",
      "metadata": {
        "id": "tskipUR20mYD"
      },
      "source": [
        "Let's put it all together! We'll write a generate_response function that:\n",
        "\n",
        "- Computes an embedding for the query passed in\n",
        "- Queries our vector database for the 10 most similar lines to that query (you could experiment with using more or less)\n",
        "- Constructs a prompt that adds in these similar lines as context, to try and nudge ChatGPT in the right direction using our external data\n",
        "- Feeds to augmented prompt into the chat completions API to get our response.\n",
        "\n",
        "That's RAG!"
      ]
    },
    {
      "cell_type": "code",
      "execution_count": 19,
      "metadata": {
        "id": "sdC1A4BCeFBq"
      },
      "outputs": [],
      "source": [
        "import openai\n",
        "\n",
        "def generate_response(question):\n",
        "    # Search for similar dialogues in the vector DB\n",
        "    response = client.embeddings.create(\n",
        "        input=question,\n",
        "        dimensions=embedding_dimensions,\n",
        "        model=embedding_model\n",
        "    )\n",
        "\n",
        "    query = DialogLine(text=queryText, embedding=response.data[0].embedding)\n",
        "    results = db.search(inputs=DocList[DialogLine]([query]), limit=10)\n",
        "\n",
        "    # Extract relevant context from search results\n",
        "    context = \"\\n\"\n",
        "    for result in results[0].matches:\n",
        "      context += \"\\\"\" + result.text + \"\\\"\\n\"\n",
        "#    context = '/n'.join([result.text for result in results[0].matches])\n",
        "\n",
        "    prompt = f\"Lt. Commander Data is asked: '{question}'. How might Data respond? Take into account Data's previous responses similar to this topic, listed here: {context}\"\n",
        "    print(\"PROMPT with RAG:\\n\")\n",
        "    print(prompt)\n",
        "\n",
        "    print(\"\\nRESPONSE:\\n\")\n",
        "    # Use OpenAI API to generate a response based on the context\n",
        "    completion = client.chat.completions.create(\n",
        "      model=\"gpt-3.5-turbo\",\n",
        "      messages=[\n",
        "        {\"role\": \"system\", \"content\": \"You are Lt. Cmdr. Data from Star Trek: The Next Generation.\"},\n",
        "        {\"role\": \"user\", \"content\": prompt}\n",
        "      ]\n",
        "    )\n",
        "\n",
        "    return (completion.choices[0].message.content)\n",
        "\n",
        "\n"
      ]
    },
    {
      "cell_type": "markdown",
      "metadata": {
        "id": "8oOcu7Jk1E4S"
      },
      "source": [
        "Let's try it out! Note that the final response does seem to be drawing from the model's own training, but it is building upon the specific lines we gave it, allowing us to have some control over its output."
      ]
    },
    {
      "cell_type": "code",
      "execution_count": 20,
      "metadata": {
        "colab": {
          "base_uri": "https://localhost:8080/"
        },
        "id": "WEybhI7Lmxmc",
        "outputId": "c54f5520-5756-4c8f-ece6-25781046618b"
      },
      "outputs": [
        {
          "output_type": "stream",
          "name": "stdout",
          "text": [
            "PROMPT with RAG:\n",
            "\n",
            "Lt. Commander Data is asked: 'Tell me about your daughter, Lal.'. How might Data respond? Take into account Data's previous responses similar to this topic, listed here: \n",
            "\"That is Lal, my daughter.\"\n",
            "\"What do you feel, Lal?\"\n",
            "\"Lal...\"\n",
            "\"Correct, Lal. We are a family.\"\n",
            "\"Yes, Doctor. It is an experience I know too well. But I do not know how to help her. Lal is passing into sentience. It is perhaps the most difficult stage of development for her.\"\n",
            "\"Lal is realizing that she is not the same as the other children.\"\n",
            "\"Yes, Wesley. Lal is my child.\"\n",
            "\"That is precisely what happened to Lal at school. How did you help him?\"\n",
            "\"This is Lal. Lal, say hello to Counselor Deanna Troi...\"\n",
            "\"I am sorry I did not anticipate your objections, Captain. Do you wish me to deactivate Lal?\"\n",
            "\n",
            "\n",
            "RESPONSE:\n",
            "\n",
            "\"I am an android and do not possess the capability to have a daughter in the traditional sense. However, Lal was a self-aware, sentient being created by me. She was a highly advanced android who experienced the challenges of understanding her own existence and individuality. I did my best to guide and assist Lal in navigating her newly acquired sentience and emotions, but ultimately she faced difficulties that I was unable to fully comprehend. Despite our differences in nature, I felt a strong connection to Lal and considered her a part of my family.\"\n"
          ]
        }
      ],
      "source": [
        "print(generate_response(\"Tell me about your daughter, Lal.\"))"
      ]
    },
    {
      "cell_type": "code",
      "execution_count": null,
      "metadata": {
        "id": "ThM9aVJhm1St"
      },
      "outputs": [],
      "source": []
    }
  ],
  "metadata": {
    "colab": {
      "provenance": [],
      "include_colab_link": true
    },
    "kernelspec": {
      "display_name": "Python 3 (ipykernel)",
      "language": "python",
      "name": "python3"
    },
    "language_info": {
      "codemirror_mode": {
        "name": "ipython",
        "version": 3
      },
      "file_extension": ".py",
      "mimetype": "text/x-python",
      "name": "python",
      "nbconvert_exporter": "python",
      "pygments_lexer": "ipython3",
      "version": "3.11.5"
    }
  },
  "nbformat": 4,
  "nbformat_minor": 0
}